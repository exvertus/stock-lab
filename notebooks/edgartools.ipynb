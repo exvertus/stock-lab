{
 "cells": [
  {
   "cell_type": "markdown",
   "id": "4ca551a4-1b83-465b-842a-a63713384f49",
   "metadata": {},
   "source": [
    "## Edgartools Basics"
   ]
  },
  {
   "cell_type": "markdown",
   "id": "26611901-4e99-46f4-81c6-48a867681904",
   "metadata": {},
   "source": [
    "Setting identity required for edgar calls. Can alternatively be set with EDGAR_IDENTITY env var."
   ]
  },
  {
   "cell_type": "code",
   "execution_count": 2,
   "id": "9b596eb8-6ec5-4ff5-bd2e-4af60d9bb22c",
   "metadata": {},
   "outputs": [],
   "source": [
    "from edgar import *\n",
    "set_identity(\"tflanig1@gmail.com\")"
   ]
  },
  {
   "cell_type": "code",
   "execution_count": 7,
   "id": "6d0b02c7-e74f-4ae9-b246-11df537906b7",
   "metadata": {},
   "outputs": [
    {
     "data": {
      "text/html": [
       "<pre style=\"white-space:pre;overflow-x:auto;line-height:normal;font-family:Menlo,'DejaVu Sans Mono',consolas,'Courier New',monospace\"></pre>\n"
      ],
      "text/plain": []
     },
     "metadata": {},
     "output_type": "display_data"
    },
    {
     "data": {
      "text/plain": [
       "\u001b[1;38;5;245m╭─\u001b[0m\u001b[1;38;5;245m─────────────────────────────────────────────────\u001b[0m\u001b[1;38;5;245m SEC Filings \u001b[0m\u001b[1;38;5;245m─────────────────────────────────────────────────\u001b[0m\u001b[1;38;5;245m─╮\u001b[0m\n",
       "\u001b[1;38;5;245m│\u001b[0m                                                                                                                 \u001b[1;38;5;245m│\u001b[0m\n",
       "\u001b[1;38;5;245m│\u001b[0m   \u001b[1m \u001b[0m\u001b[1mForm   \u001b[0m\u001b[1m \u001b[0m \u001b[1m \u001b[0m\u001b[1m       CIK\u001b[0m\u001b[1m \u001b[0m \u001b[1m \u001b[0m\u001b[1mTicker\u001b[0m\u001b[1m \u001b[0m \u001b[1m \u001b[0m\u001b[1mCompany                               \u001b[0m\u001b[1m \u001b[0m \u001b[1m \u001b[0m\u001b[1mFiling Date\u001b[0m\u001b[1m \u001b[0m \u001b[1m \u001b[0m\u001b[1mAccession Number   \u001b[0m\u001b[1m \u001b[0m  \u001b[1;38;5;245m│\u001b[0m\n",
       "\u001b[1;38;5;245m│\u001b[0m  ─────────────────────────────────────────────────────────────────────────────────────────────────────────────  \u001b[1;38;5;245m│\u001b[0m\n",
       "\u001b[1;38;5;245m│\u001b[0m    10-Q     \u001b[2m \u001b[0m\u001b[2m   1600641\u001b[0m\u001b[2m \u001b[0m \u001b[33m \u001b[0m\u001b[33mDIBS  \u001b[0m\u001b[33m \u001b[0m \u001b[1;32m \u001b[0m\u001b[1;32m1stdibs.com, Inc.                     \u001b[0m\u001b[1;32m \u001b[0m  2025-05-12   \u001b[2m \u001b[0m\u001b[2m0001600641-25-0000…\u001b[0m\u001b[2m \u001b[0m  \u001b[1;38;5;245m│\u001b[0m\n",
       "\u001b[1;38;5;245m│\u001b[0m   \u001b[1m \u001b[0m\u001b[1m10-Q   \u001b[0m\u001b[1m \u001b[0m \u001b[1;2m \u001b[0m\u001b[1;2m    910638\u001b[0m\u001b[1;2m \u001b[0m \u001b[1;33m \u001b[0m\u001b[1;33mDDD   \u001b[0m\u001b[1;33m \u001b[0m \u001b[1;32m \u001b[0m\u001b[1;32m3D SYSTEMS CORP                       \u001b[0m\u001b[1;32m \u001b[0m \u001b[1m \u001b[0m\u001b[1m2025-05-12 \u001b[0m\u001b[1m \u001b[0m \u001b[1;2m \u001b[0m\u001b[1;2m0000910638-25-0000…\u001b[0m\u001b[1;2m \u001b[0m  \u001b[1;38;5;245m│\u001b[0m\n",
       "\u001b[1;38;5;245m│\u001b[0m    10-Q     \u001b[2m \u001b[0m\u001b[2m   1591588\u001b[0m\u001b[2m \u001b[0m \u001b[33m \u001b[0m\u001b[33mAMRK  \u001b[0m\u001b[33m \u001b[0m \u001b[1;32m \u001b[0m\u001b[1;32mA-Mark Precious Metals, Inc.          \u001b[0m\u001b[1;32m \u001b[0m  2025-05-12   \u001b[2m \u001b[0m\u001b[2m0000950170-25-0692…\u001b[0m\u001b[2m \u001b[0m  \u001b[1;38;5;245m│\u001b[0m\n",
       "\u001b[1;38;5;245m│\u001b[0m   \u001b[1m \u001b[0m\u001b[1m10-Q   \u001b[0m\u001b[1m \u001b[0m \u001b[1;2m \u001b[0m\u001b[1;2m   2012964\u001b[0m\u001b[1;2m \u001b[0m \u001b[1;33m \u001b[0m\u001b[1;33mAAM   \u001b[0m\u001b[1;33m \u001b[0m \u001b[1;32m \u001b[0m\u001b[1;32mAA Mission Acquisition Corp.          \u001b[0m\u001b[1;32m \u001b[0m \u001b[1m \u001b[0m\u001b[1m2025-05-12 \u001b[0m\u001b[1m \u001b[0m \u001b[1;2m \u001b[0m\u001b[1;2m0001213900-25-0420…\u001b[0m\u001b[1;2m \u001b[0m  \u001b[1;38;5;245m│\u001b[0m\n",
       "\u001b[1;38;5;245m│\u001b[0m    10-Q     \u001b[2m \u001b[0m\u001b[2m   1680062\u001b[0m\u001b[2m \u001b[0m \u001b[33m \u001b[0m\u001b[33mACMR  \u001b[0m\u001b[33m \u001b[0m \u001b[1;32m \u001b[0m\u001b[1;32mACM Research, Inc.                    \u001b[0m\u001b[1;32m \u001b[0m  2025-05-12   \u001b[2m \u001b[0m\u001b[2m0001680062-25-0000…\u001b[0m\u001b[2m \u001b[0m  \u001b[1;38;5;245m│\u001b[0m\n",
       "\u001b[1;38;5;245m│\u001b[0m   \u001b[1m \u001b[0m\u001b[1m10-Q   \u001b[0m\u001b[1m \u001b[0m \u001b[1;2m \u001b[0m\u001b[1;2m   1818644\u001b[0m\u001b[1;2m \u001b[0m \u001b[1;33m \u001b[0m\u001b[1;33mLIDR  \u001b[0m\u001b[1;33m \u001b[0m \u001b[1;32m \u001b[0m\u001b[1;32mAEye, Inc.                            \u001b[0m\u001b[1;32m \u001b[0m \u001b[1m \u001b[0m\u001b[1m2025-05-12 \u001b[0m\u001b[1m \u001b[0m \u001b[1;2m \u001b[0m\u001b[1;2m0001437749-25-0158…\u001b[0m\u001b[1;2m \u001b[0m  \u001b[1;38;5;245m│\u001b[0m\n",
       "\u001b[1;38;5;245m│\u001b[0m    10-Q     \u001b[2m \u001b[0m\u001b[2m   1098972\u001b[0m\u001b[2m \u001b[0m \u001b[33m \u001b[0m\u001b[33mAGEN  \u001b[0m\u001b[33m \u001b[0m \u001b[1;32m \u001b[0m\u001b[1;32mAGENUS INC                            \u001b[0m\u001b[1;32m \u001b[0m  2025-05-12   \u001b[2m \u001b[0m\u001b[2m0000950170-25-0693…\u001b[0m\u001b[2m \u001b[0m  \u001b[1;38;5;245m│\u001b[0m\n",
       "\u001b[1;38;5;245m│\u001b[0m   \u001b[1m \u001b[0m\u001b[1m10-Q   \u001b[0m\u001b[1m \u001b[0m \u001b[1;2m \u001b[0m\u001b[1;2m    874501\u001b[0m\u001b[1;2m \u001b[0m \u001b[1;33m \u001b[0m\u001b[1;33mAMBC  \u001b[0m\u001b[1;33m \u001b[0m \u001b[1;32m \u001b[0m\u001b[1;32mAMBAC FINANCIAL GROUP INC             \u001b[0m\u001b[1;32m \u001b[0m \u001b[1m \u001b[0m\u001b[1m2025-05-12 \u001b[0m\u001b[1m \u001b[0m \u001b[1;2m \u001b[0m\u001b[1;2m0000874501-25-0000…\u001b[0m\u001b[1;2m \u001b[0m  \u001b[1;38;5;245m│\u001b[0m\n",
       "\u001b[1;38;5;245m│\u001b[0m    10-Q     \u001b[2m \u001b[0m\u001b[2m   1201792\u001b[0m\u001b[2m \u001b[0m \u001b[33m \u001b[0m\u001b[33mAPEI  \u001b[0m\u001b[33m \u001b[0m \u001b[1;32m \u001b[0m\u001b[1;32mAMERICAN PUBLIC EDUCATION INC         \u001b[0m\u001b[1;32m \u001b[0m  2025-05-12   \u001b[2m \u001b[0m\u001b[2m0001201792-25-0000…\u001b[0m\u001b[2m \u001b[0m  \u001b[1;38;5;245m│\u001b[0m\n",
       "\u001b[1;38;5;245m│\u001b[0m   \u001b[1m \u001b[0m\u001b[1m10-Q   \u001b[0m\u001b[1m \u001b[0m \u001b[1;2m \u001b[0m\u001b[1;2m      6176\u001b[0m\u001b[1;2m \u001b[0m \u001b[1;33m \u001b[0m\u001b[1;33mAP    \u001b[0m\u001b[1;33m \u001b[0m \u001b[1;32m \u001b[0m\u001b[1;32mAMPCO PITTSBURGH CORP                 \u001b[0m\u001b[1;32m \u001b[0m \u001b[1m \u001b[0m\u001b[1m2025-05-12 \u001b[0m\u001b[1m \u001b[0m \u001b[1;2m \u001b[0m\u001b[1;2m0000950170-25-0693…\u001b[0m\u001b[1;2m \u001b[0m  \u001b[1;38;5;245m│\u001b[0m\n",
       "\u001b[1;38;5;245m│\u001b[0m                                                                                                                 \u001b[1;38;5;245m│\u001b[0m\n",
       "\u001b[1;38;5;245m╰─\u001b[0m\u001b[1;38;5;245m────────────────────────────────\u001b[0m\u001b[1;38;5;245m SEC Filings between 2025-05-12 and 2025-05-12 \u001b[0m\u001b[1;38;5;245m────────────────────────────────\u001b[0m\u001b[1;38;5;245m─╯\u001b[0m"
      ]
     },
     "execution_count": 7,
     "metadata": {},
     "output_type": "execute_result"
    }
   ],
   "source": [
    "filings = get_filings()\n",
    "filings.head(10)"
   ]
  },
  {
   "cell_type": "code",
   "execution_count": 8,
   "id": "a7a464ac-c927-46ea-a08b-ab3a08d946ec",
   "metadata": {},
   "outputs": [
    {
     "data": {
      "text/html": [
       "<pre style=\"white-space:pre;overflow-x:auto;line-height:normal;font-family:Menlo,'DejaVu Sans Mono',consolas,'Courier New',monospace\"></pre>\n"
      ],
      "text/plain": []
     },
     "metadata": {},
     "output_type": "display_data"
    },
    {
     "data": {
      "text/plain": [
       "╭──────── \u001b[1mForm 10-Q \u001b[0m\u001b[1;32mAA Mission Acquisition Corp.\u001b[0m \u001b[2m[2012964] \u001b[0m\u001b[1;33mAAM\u001b[0m ─────────╮\n",
       "│                                                                       │\n",
       "│  \u001b[2m \u001b[0m\u001b[2mAccession Number    \u001b[0m\u001b[2m \u001b[0m \u001b[2m \u001b[0m\u001b[2mFiling Date\u001b[0m\u001b[2m \u001b[0m \u001b[2m \u001b[0m\u001b[2mPeriod of Report\u001b[0m\u001b[2m \u001b[0m \u001b[2m \u001b[0m\u001b[2mDocuments\u001b[0m\u001b[2m \u001b[0m  │\n",
       "│  ───────────────────────────────────────────────────────────────────  │\n",
       "│   \u001b[1;38;5;39m0001213900-25-042038\u001b[0m   \u001b[1m2025-05-12 \u001b[0m   \u001b[1m2025-03-31      \u001b[0m   47          │\n",
       "│                                                                       │\n",
       "│                                                                       │\n",
       "│                                                                       │\n",
       "│                                                                       │\n",
       "╰────────────────\u001b[2m Quarterly report for public companies \u001b[0m────────────────╯"
      ]
     },
     "execution_count": 8,
     "metadata": {},
     "output_type": "execute_result"
    }
   ],
   "source": [
    "filings[3]"
   ]
  },
  {
   "cell_type": "code",
   "execution_count": 9,
   "id": "44b52b52-2c58-43d6-bfd4-be20cac361bf",
   "metadata": {},
   "outputs": [
    {
     "data": {
      "text/html": [
       "<pre style=\"white-space:pre;overflow-x:auto;line-height:normal;font-family:Menlo,'DejaVu Sans Mono',consolas,'Courier New',monospace\"></pre>\n"
      ],
      "text/plain": []
     },
     "metadata": {},
     "output_type": "display_data"
    },
    {
     "data": {
      "text/plain": [
       "\u001b[1;38;5;245m╭─\u001b[0m\u001b[1;38;5;245m───────────────────────────────────\u001b[0m\u001b[1;38;5;245m \u001b[0m\u001b[1;38;5;245mFilings for \u001b[0m\u001b[1;32m1stdibs.com, Inc.\u001b[0m\u001b[1;2;38;5;245m [\u001b[0m\u001b[1;33m1600641\u001b[0m\u001b[1;2;38;5;245m]\u001b[0m\u001b[1;38;5;245m \u001b[0m\u001b[1;38;5;245m───────────────────────────────────\u001b[0m\u001b[1;38;5;245m─╮\u001b[0m\n",
       "\u001b[1;38;5;245m│\u001b[0m                                                                                                                 \u001b[1;38;5;245m│\u001b[0m\n",
       "\u001b[1;38;5;245m│\u001b[0m  \u001b[1m \u001b[0m\u001b[1m #\u001b[0m\u001b[1m \u001b[0m \u001b[1m \u001b[0m\u001b[1mForm    \u001b[0m\u001b[1m \u001b[0m \u001b[1m \u001b[0m\u001b[1mDescription                                       \u001b[0m\u001b[1m \u001b[0m \u001b[1m \u001b[0m\u001b[1mFiling Date\u001b[0m\u001b[1m \u001b[0m \u001b[1m \u001b[0m\u001b[1mAccession Number    \u001b[0m\u001b[1m \u001b[0m      \u001b[1;38;5;245m│\u001b[0m\n",
       "\u001b[1;38;5;245m│\u001b[0m  ─────────────────────────────────────────────────────────────────────────────────────────────────────────      \u001b[1;38;5;245m│\u001b[0m\n",
       "\u001b[1;38;5;245m│\u001b[0m  \u001b[2m \u001b[0m\u001b[2m 0\u001b[0m\u001b[2m \u001b[0m \u001b[1;33m \u001b[0m\u001b[1;33m8-A12B  \u001b[0m\u001b[1;33m \u001b[0m \u001b[1;34m \u001b[0m\u001b[1;34mRegistration of securities                        \u001b[0m\u001b[1;34m \u001b[0m  2021-06-02   \u001b[2m \u001b[0m\u001b[2m0001193125-21-179167\u001b[0m\u001b[2m \u001b[0m      \u001b[1;38;5;245m│\u001b[0m\n",
       "\u001b[1;38;5;245m│\u001b[0m  \u001b[1;2m \u001b[0m\u001b[1;2m 1\u001b[0m\u001b[1;2m \u001b[0m \u001b[1;33m \u001b[0m\u001b[1;33mCERT    \u001b[0m\u001b[1;33m \u001b[0m \u001b[1;34m \u001b[0m\u001b[1;34mExchange certification of listing approval        \u001b[0m\u001b[1;34m \u001b[0m \u001b[1m \u001b[0m\u001b[1m2021-06-04 \u001b[0m\u001b[1m \u001b[0m \u001b[1;2m \u001b[0m\u001b[1;2m0001354457-21-000613\u001b[0m\u001b[1;2m \u001b[0m      \u001b[1;38;5;245m│\u001b[0m\n",
       "\u001b[1;38;5;245m│\u001b[0m  \u001b[2m \u001b[0m\u001b[2m 2\u001b[0m\u001b[2m \u001b[0m \u001b[1;33m \u001b[0m\u001b[1;33m8-K     \u001b[0m\u001b[1;33m \u001b[0m \u001b[1;34m \u001b[0m\u001b[1;34mCurrent report                                    \u001b[0m\u001b[1;34m \u001b[0m  2021-06-14   \u001b[2m \u001b[0m\u001b[2m0001193125-21-190221\u001b[0m\u001b[2m \u001b[0m      \u001b[1;38;5;245m│\u001b[0m\n",
       "\u001b[1;38;5;245m│\u001b[0m  \u001b[1;2m \u001b[0m\u001b[1;2m 3\u001b[0m\u001b[1;2m \u001b[0m \u001b[1;33m \u001b[0m\u001b[1;33m8-K     \u001b[0m\u001b[1;33m \u001b[0m \u001b[1;34m \u001b[0m\u001b[1;34mCurrent report                                    \u001b[0m\u001b[1;34m \u001b[0m \u001b[1m \u001b[0m\u001b[1m2021-08-11 \u001b[0m\u001b[1m \u001b[0m \u001b[1;2m \u001b[0m\u001b[1;2m0001600641-21-000005\u001b[0m\u001b[1;2m \u001b[0m      \u001b[1;38;5;245m│\u001b[0m\n",
       "\u001b[1;38;5;245m│\u001b[0m  \u001b[2m \u001b[0m\u001b[2m 4\u001b[0m\u001b[2m \u001b[0m \u001b[1;33m \u001b[0m\u001b[1;33m10-Q    \u001b[0m\u001b[1;33m \u001b[0m \u001b[1;34m \u001b[0m\u001b[1;34mQuarterly report for public companies             \u001b[0m\u001b[1;34m \u001b[0m  2021-08-12   \u001b[2m \u001b[0m\u001b[2m0001600641-21-000007\u001b[0m\u001b[2m \u001b[0m      \u001b[1;38;5;245m│\u001b[0m\n",
       "\u001b[1;38;5;245m│\u001b[0m  \u001b[1;2m \u001b[0m\u001b[1;2m 5\u001b[0m\u001b[1;2m \u001b[0m \u001b[1;33m \u001b[0m\u001b[1;33m8-K     \u001b[0m\u001b[1;33m \u001b[0m \u001b[1;34m \u001b[0m\u001b[1;34mCurrent report                                    \u001b[0m\u001b[1;34m \u001b[0m \u001b[1m \u001b[0m\u001b[1m2021-09-17 \u001b[0m\u001b[1m \u001b[0m \u001b[1;2m \u001b[0m\u001b[1;2m0001600641-21-000010\u001b[0m\u001b[1;2m \u001b[0m      \u001b[1;38;5;245m│\u001b[0m\n",
       "\u001b[1;38;5;245m│\u001b[0m  \u001b[2m \u001b[0m\u001b[2m 6\u001b[0m\u001b[2m \u001b[0m \u001b[1;33m \u001b[0m\u001b[1;33m8-K     \u001b[0m\u001b[1;33m \u001b[0m \u001b[1;34m \u001b[0m\u001b[1;34mCurrent report                                    \u001b[0m\u001b[1;34m \u001b[0m  2021-11-10   \u001b[2m \u001b[0m\u001b[2m0001600641-21-000013\u001b[0m\u001b[2m \u001b[0m      \u001b[1;38;5;245m│\u001b[0m\n",
       "\u001b[1;38;5;245m│\u001b[0m  \u001b[1;2m \u001b[0m\u001b[1;2m 7\u001b[0m\u001b[1;2m \u001b[0m \u001b[1;33m \u001b[0m\u001b[1;33m10-Q    \u001b[0m\u001b[1;33m \u001b[0m \u001b[1;34m \u001b[0m\u001b[1;34mQuarterly report for public companies             \u001b[0m\u001b[1;34m \u001b[0m \u001b[1m \u001b[0m\u001b[1m2021-11-12 \u001b[0m\u001b[1m \u001b[0m \u001b[1;2m \u001b[0m\u001b[1;2m0001600641-21-000016\u001b[0m\u001b[1;2m \u001b[0m      \u001b[1;38;5;245m│\u001b[0m\n",
       "\u001b[1;38;5;245m│\u001b[0m  \u001b[2m \u001b[0m\u001b[2m 8\u001b[0m\u001b[2m \u001b[0m \u001b[1;33m \u001b[0m\u001b[1;33m8-K     \u001b[0m\u001b[1;33m \u001b[0m \u001b[1;34m \u001b[0m\u001b[1;34mCurrent report                                    \u001b[0m\u001b[1;34m \u001b[0m  2022-02-28   \u001b[2m \u001b[0m\u001b[2m0001600641-22-000010\u001b[0m\u001b[2m \u001b[0m      \u001b[1;38;5;245m│\u001b[0m\n",
       "\u001b[1;38;5;245m│\u001b[0m  \u001b[1;2m \u001b[0m\u001b[1;2m 9\u001b[0m\u001b[1;2m \u001b[0m \u001b[1;33m \u001b[0m\u001b[1;33m8-K     \u001b[0m\u001b[1;33m \u001b[0m \u001b[1;34m \u001b[0m\u001b[1;34mCurrent report                                    \u001b[0m\u001b[1;34m \u001b[0m \u001b[1m \u001b[0m\u001b[1m2022-03-01 \u001b[0m\u001b[1m \u001b[0m \u001b[1;2m \u001b[0m\u001b[1;2m0001600641-22-000016\u001b[0m\u001b[1;2m \u001b[0m      \u001b[1;38;5;245m│\u001b[0m\n",
       "\u001b[1;38;5;245m│\u001b[0m  \u001b[2m \u001b[0m\u001b[2m10\u001b[0m\u001b[2m \u001b[0m \u001b[1;33m \u001b[0m\u001b[1;33m8-K     \u001b[0m\u001b[1;33m \u001b[0m \u001b[1;34m \u001b[0m\u001b[1;34mCurrent report                                    \u001b[0m\u001b[1;34m \u001b[0m  2022-03-01   \u001b[2m \u001b[0m\u001b[2m0001600641-22-000017\u001b[0m\u001b[2m \u001b[0m      \u001b[1;38;5;245m│\u001b[0m\n",
       "\u001b[1;38;5;245m│\u001b[0m  \u001b[1;2m \u001b[0m\u001b[1;2m11\u001b[0m\u001b[1;2m \u001b[0m \u001b[1;33m \u001b[0m\u001b[1;33m10-K    \u001b[0m\u001b[1;33m \u001b[0m \u001b[1;34m \u001b[0m\u001b[1;34mAnnual report for public companies                \u001b[0m\u001b[1;34m \u001b[0m \u001b[1m \u001b[0m\u001b[1m2022-03-03 \u001b[0m\u001b[1m \u001b[0m \u001b[1;2m \u001b[0m\u001b[1;2m0001600641-22-000023\u001b[0m\u001b[1;2m \u001b[0m      \u001b[1;38;5;245m│\u001b[0m\n",
       "\u001b[1;38;5;245m│\u001b[0m  \u001b[2m \u001b[0m\u001b[2m12\u001b[0m\u001b[2m \u001b[0m \u001b[1;33m \u001b[0m\u001b[1;33mDEF 14A \u001b[0m\u001b[1;33m \u001b[0m \u001b[1;34m \u001b[0m\u001b[1;34mDefinitive proxy statement                        \u001b[0m\u001b[1;34m \u001b[0m  2022-03-30   \u001b[2m \u001b[0m\u001b[2m0001600641-22-000048\u001b[0m\u001b[2m \u001b[0m      \u001b[1;38;5;245m│\u001b[0m\n",
       "\u001b[1;38;5;245m│\u001b[0m  \u001b[1;2m \u001b[0m\u001b[1;2m13\u001b[0m\u001b[1;2m \u001b[0m \u001b[1;33m \u001b[0m\u001b[1;33mDEFA14A \u001b[0m\u001b[1;33m \u001b[0m \u001b[1;34m \u001b[0m\u001b[1;34mAdditional definitive proxy materials             \u001b[0m\u001b[1;34m \u001b[0m \u001b[1m \u001b[0m\u001b[1m2022-03-30 \u001b[0m\u001b[1m \u001b[0m \u001b[1;2m \u001b[0m\u001b[1;2m0001600641-22-000049\u001b[0m\u001b[1;2m \u001b[0m      \u001b[1;38;5;245m│\u001b[0m\n",
       "\u001b[1;38;5;245m│\u001b[0m  \u001b[2m \u001b[0m\u001b[2m14\u001b[0m\u001b[2m \u001b[0m \u001b[1;33m \u001b[0m\u001b[1;33m8-K     \u001b[0m\u001b[1;33m \u001b[0m \u001b[1;34m \u001b[0m\u001b[1;34mCurrent report                                    \u001b[0m\u001b[1;34m \u001b[0m  2022-05-11   \u001b[2m \u001b[0m\u001b[2m0001600641-22-000055\u001b[0m\u001b[2m \u001b[0m      \u001b[1;38;5;245m│\u001b[0m\n",
       "\u001b[1;38;5;245m│\u001b[0m  \u001b[1;2m \u001b[0m\u001b[1;2m15\u001b[0m\u001b[1;2m \u001b[0m \u001b[1;33m \u001b[0m\u001b[1;33m10-Q    \u001b[0m\u001b[1;33m \u001b[0m \u001b[1;34m \u001b[0m\u001b[1;34mQuarterly report for public companies             \u001b[0m\u001b[1;34m \u001b[0m \u001b[1m \u001b[0m\u001b[1m2022-05-12 \u001b[0m\u001b[1m \u001b[0m \u001b[1;2m \u001b[0m\u001b[1;2m0001600641-22-000057\u001b[0m\u001b[1;2m \u001b[0m      \u001b[1;38;5;245m│\u001b[0m\n",
       "\u001b[1;38;5;245m│\u001b[0m  \u001b[2m \u001b[0m\u001b[2m16\u001b[0m\u001b[2m \u001b[0m \u001b[1;33m \u001b[0m\u001b[1;33m8-K     \u001b[0m\u001b[1;33m \u001b[0m \u001b[1;34m \u001b[0m\u001b[1;34mCurrent report                                    \u001b[0m\u001b[1;34m \u001b[0m  2022-05-13   \u001b[2m \u001b[0m\u001b[2m0001600641-22-000060\u001b[0m\u001b[2m \u001b[0m      \u001b[1;38;5;245m│\u001b[0m\n",
       "\u001b[1;38;5;245m│\u001b[0m  \u001b[1;2m \u001b[0m\u001b[1;2m17\u001b[0m\u001b[1;2m \u001b[0m \u001b[1;33m \u001b[0m\u001b[1;33m8-K     \u001b[0m\u001b[1;33m \u001b[0m \u001b[1;34m \u001b[0m\u001b[1;34mCurrent report                                    \u001b[0m\u001b[1;34m \u001b[0m \u001b[1m \u001b[0m\u001b[1m2022-08-10 \u001b[0m\u001b[1m \u001b[0m \u001b[1;2m \u001b[0m\u001b[1;2m0001600641-22-000118\u001b[0m\u001b[1;2m \u001b[0m      \u001b[1;38;5;245m│\u001b[0m\n",
       "\u001b[1;38;5;245m│\u001b[0m  \u001b[2m \u001b[0m\u001b[2m18\u001b[0m\u001b[2m \u001b[0m \u001b[1;33m \u001b[0m\u001b[1;33m10-Q    \u001b[0m\u001b[1;33m \u001b[0m \u001b[1;34m \u001b[0m\u001b[1;34mQuarterly report for public companies             \u001b[0m\u001b[1;34m \u001b[0m  2022-08-11   \u001b[2m \u001b[0m\u001b[2m0001600641-22-000120\u001b[0m\u001b[2m \u001b[0m      \u001b[1;38;5;245m│\u001b[0m\n",
       "\u001b[1;38;5;245m│\u001b[0m  \u001b[1;2m \u001b[0m\u001b[1;2m19\u001b[0m\u001b[1;2m \u001b[0m \u001b[1;33m \u001b[0m\u001b[1;33m8-K     \u001b[0m\u001b[1;33m \u001b[0m \u001b[1;34m \u001b[0m\u001b[1;34mCurrent report                                    \u001b[0m\u001b[1;34m \u001b[0m \u001b[1m \u001b[0m\u001b[1m2022-09-22 \u001b[0m\u001b[1m \u001b[0m \u001b[1;2m \u001b[0m\u001b[1;2m0001600641-22-000149\u001b[0m\u001b[1;2m \u001b[0m      \u001b[1;38;5;245m│\u001b[0m\n",
       "\u001b[1;38;5;245m│\u001b[0m  \u001b[2m \u001b[0m\u001b[2m20\u001b[0m\u001b[2m \u001b[0m \u001b[1;33m \u001b[0m\u001b[1;33m8-K     \u001b[0m\u001b[1;33m \u001b[0m \u001b[1;34m \u001b[0m\u001b[1;34mCurrent report                                    \u001b[0m\u001b[1;34m \u001b[0m  2022-11-09   \u001b[2m \u001b[0m\u001b[2m0001600641-22-000152\u001b[0m\u001b[2m \u001b[0m      \u001b[1;38;5;245m│\u001b[0m\n",
       "\u001b[1;38;5;245m│\u001b[0m  \u001b[1;2m \u001b[0m\u001b[1;2m21\u001b[0m\u001b[1;2m \u001b[0m \u001b[1;33m \u001b[0m\u001b[1;33m10-Q    \u001b[0m\u001b[1;33m \u001b[0m \u001b[1;34m \u001b[0m\u001b[1;34mQuarterly report for public companies             \u001b[0m\u001b[1;34m \u001b[0m \u001b[1m \u001b[0m\u001b[1m2022-11-10 \u001b[0m\u001b[1m \u001b[0m \u001b[1;2m \u001b[0m\u001b[1;2m0001600641-22-000154\u001b[0m\u001b[1;2m \u001b[0m      \u001b[1;38;5;245m│\u001b[0m\n",
       "\u001b[1;38;5;245m│\u001b[0m  \u001b[2m \u001b[0m\u001b[2m22\u001b[0m\u001b[2m \u001b[0m \u001b[1;33m \u001b[0m\u001b[1;33m8-K     \u001b[0m\u001b[1;33m \u001b[0m \u001b[1;34m \u001b[0m\u001b[1;34mCurrent report                                    \u001b[0m\u001b[1;34m \u001b[0m  2023-03-01   \u001b[2m \u001b[0m\u001b[2m0001600641-23-000006\u001b[0m\u001b[2m \u001b[0m      \u001b[1;38;5;245m│\u001b[0m\n",
       "\u001b[1;38;5;245m│\u001b[0m  \u001b[1;2m \u001b[0m\u001b[1;2m23\u001b[0m\u001b[1;2m \u001b[0m \u001b[1;33m \u001b[0m\u001b[1;33m8-K     \u001b[0m\u001b[1;33m \u001b[0m \u001b[1;34m \u001b[0m\u001b[1;34mCurrent report                                    \u001b[0m\u001b[1;34m \u001b[0m \u001b[1m \u001b[0m\u001b[1m2023-03-01 \u001b[0m\u001b[1m \u001b[0m \u001b[1;2m \u001b[0m\u001b[1;2m0001600641-23-000009\u001b[0m\u001b[1;2m \u001b[0m      \u001b[1;38;5;245m│\u001b[0m\n",
       "\u001b[1;38;5;245m│\u001b[0m  \u001b[2m \u001b[0m\u001b[2m24\u001b[0m\u001b[2m \u001b[0m \u001b[1;33m \u001b[0m\u001b[1;33m10-K    \u001b[0m\u001b[1;33m \u001b[0m \u001b[1;34m \u001b[0m\u001b[1;34mAnnual report for public companies                \u001b[0m\u001b[1;34m \u001b[0m  2023-03-03   \u001b[2m \u001b[0m\u001b[2m0001600641-23-000014\u001b[0m\u001b[2m \u001b[0m      \u001b[1;38;5;245m│\u001b[0m\n",
       "\u001b[1;38;5;245m│\u001b[0m  \u001b[1;2m \u001b[0m\u001b[1;2m25\u001b[0m\u001b[1;2m \u001b[0m \u001b[1;33m \u001b[0m\u001b[1;33mDEF 14A \u001b[0m\u001b[1;33m \u001b[0m \u001b[1;34m \u001b[0m\u001b[1;34mDefinitive proxy statement                        \u001b[0m\u001b[1;34m \u001b[0m \u001b[1m \u001b[0m\u001b[1m2023-03-30 \u001b[0m\u001b[1m \u001b[0m \u001b[1;2m \u001b[0m\u001b[1;2m0001600641-23-000048\u001b[0m\u001b[1;2m \u001b[0m      \u001b[1;38;5;245m│\u001b[0m\n",
       "\u001b[1;38;5;245m│\u001b[0m  \u001b[2m \u001b[0m\u001b[2m26\u001b[0m\u001b[2m \u001b[0m \u001b[1;33m \u001b[0m\u001b[1;33mDEFA14A \u001b[0m\u001b[1;33m \u001b[0m \u001b[1;34m \u001b[0m\u001b[1;34mAdditional definitive proxy materials             \u001b[0m\u001b[1;34m \u001b[0m  2023-03-30   \u001b[2m \u001b[0m\u001b[2m0001600641-23-000050\u001b[0m\u001b[2m \u001b[0m      \u001b[1;38;5;245m│\u001b[0m\n",
       "\u001b[1;38;5;245m│\u001b[0m  \u001b[1;2m \u001b[0m\u001b[1;2m27\u001b[0m\u001b[1;2m \u001b[0m \u001b[1;33m \u001b[0m\u001b[1;33m8-K     \u001b[0m\u001b[1;33m \u001b[0m \u001b[1;34m \u001b[0m\u001b[1;34mCurrent report                                    \u001b[0m\u001b[1;34m \u001b[0m \u001b[1m \u001b[0m\u001b[1m2023-05-10 \u001b[0m\u001b[1m \u001b[0m \u001b[1;2m \u001b[0m\u001b[1;2m0001600641-23-000054\u001b[0m\u001b[1;2m \u001b[0m      \u001b[1;38;5;245m│\u001b[0m\n",
       "\u001b[1;38;5;245m│\u001b[0m  \u001b[2m \u001b[0m\u001b[2m28\u001b[0m\u001b[2m \u001b[0m \u001b[1;33m \u001b[0m\u001b[1;33m10-Q    \u001b[0m\u001b[1;33m \u001b[0m \u001b[1;34m \u001b[0m\u001b[1;34mQuarterly report for public companies             \u001b[0m\u001b[1;34m \u001b[0m  2023-05-11   \u001b[2m \u001b[0m\u001b[2m0001600641-23-000058\u001b[0m\u001b[2m \u001b[0m      \u001b[1;38;5;245m│\u001b[0m\n",
       "\u001b[1;38;5;245m│\u001b[0m  \u001b[1;2m \u001b[0m\u001b[1;2m29\u001b[0m\u001b[1;2m \u001b[0m \u001b[1;33m \u001b[0m\u001b[1;33m8-K     \u001b[0m\u001b[1;33m \u001b[0m \u001b[1;34m \u001b[0m\u001b[1;34mCurrent report                                    \u001b[0m\u001b[1;34m \u001b[0m \u001b[1m \u001b[0m\u001b[1m2023-05-17 \u001b[0m\u001b[1m \u001b[0m \u001b[1;2m \u001b[0m\u001b[1;2m0001600641-23-000081\u001b[0m\u001b[1;2m \u001b[0m      \u001b[1;38;5;245m│\u001b[0m\n",
       "\u001b[1;38;5;245m│\u001b[0m  \u001b[2m \u001b[0m\u001b[2m30\u001b[0m\u001b[2m \u001b[0m \u001b[1;33m \u001b[0m\u001b[1;33m144     \u001b[0m\u001b[1;33m \u001b[0m \u001b[1;34m \u001b[0m\u001b[1;34mNotice of proposed sale                           \u001b[0m\u001b[1;34m \u001b[0m  2023-06-06   \u001b[2m \u001b[0m\u001b[2m0001600641-23-000087\u001b[0m\u001b[2m \u001b[0m      \u001b[1;38;5;245m│\u001b[0m\n",
       "\u001b[1;38;5;245m│\u001b[0m  \u001b[1;2m \u001b[0m\u001b[1;2m31\u001b[0m\u001b[1;2m \u001b[0m \u001b[1;33m \u001b[0m\u001b[1;33m144     \u001b[0m\u001b[1;33m \u001b[0m \u001b[1;34m \u001b[0m\u001b[1;34mNotice of proposed sale                           \u001b[0m\u001b[1;34m \u001b[0m \u001b[1m \u001b[0m\u001b[1m2023-06-06 \u001b[0m\u001b[1m \u001b[0m \u001b[1;2m \u001b[0m\u001b[1;2m0001600641-23-000089\u001b[0m\u001b[1;2m \u001b[0m      \u001b[1;38;5;245m│\u001b[0m\n",
       "\u001b[1;38;5;245m│\u001b[0m  \u001b[2m \u001b[0m\u001b[2m32\u001b[0m\u001b[2m \u001b[0m \u001b[1;33m \u001b[0m\u001b[1;33m144     \u001b[0m\u001b[1;33m \u001b[0m \u001b[1;34m \u001b[0m\u001b[1;34mNotice of proposed sale                           \u001b[0m\u001b[1;34m \u001b[0m  2023-06-06   \u001b[2m \u001b[0m\u001b[2m0001600641-23-000091\u001b[0m\u001b[2m \u001b[0m      \u001b[1;38;5;245m│\u001b[0m\n",
       "\u001b[1;38;5;245m│\u001b[0m  \u001b[1;2m \u001b[0m\u001b[1;2m33\u001b[0m\u001b[1;2m \u001b[0m \u001b[1;33m \u001b[0m\u001b[1;33m144     \u001b[0m\u001b[1;33m \u001b[0m \u001b[1;34m \u001b[0m\u001b[1;34mNotice of proposed sale                           \u001b[0m\u001b[1;34m \u001b[0m \u001b[1m \u001b[0m\u001b[1m2023-06-06 \u001b[0m\u001b[1m \u001b[0m \u001b[1;2m \u001b[0m\u001b[1;2m0001600641-23-000093\u001b[0m\u001b[1;2m \u001b[0m      \u001b[1;38;5;245m│\u001b[0m\n",
       "\u001b[1;38;5;245m│\u001b[0m  \u001b[2m \u001b[0m\u001b[2m34\u001b[0m\u001b[2m \u001b[0m \u001b[1;33m \u001b[0m\u001b[1;33m144     \u001b[0m\u001b[1;33m \u001b[0m \u001b[1;34m \u001b[0m\u001b[1;34mNotice of proposed sale                           \u001b[0m\u001b[1;34m \u001b[0m  2023-06-06   \u001b[2m \u001b[0m\u001b[2m0001600641-23-000095\u001b[0m\u001b[2m \u001b[0m      \u001b[1;38;5;245m│\u001b[0m\n",
       "\u001b[1;38;5;245m│\u001b[0m  \u001b[1;2m \u001b[0m\u001b[1;2m35\u001b[0m\u001b[1;2m \u001b[0m \u001b[1;33m \u001b[0m\u001b[1;33m144     \u001b[0m\u001b[1;33m \u001b[0m \u001b[1;34m \u001b[0m\u001b[1;34mNotice of proposed sale                           \u001b[0m\u001b[1;34m \u001b[0m \u001b[1m \u001b[0m\u001b[1m2023-06-06 \u001b[0m\u001b[1m \u001b[0m \u001b[1;2m \u001b[0m\u001b[1;2m0001600641-23-000097\u001b[0m\u001b[1;2m \u001b[0m      \u001b[1;38;5;245m│\u001b[0m\n",
       "\u001b[1;38;5;245m│\u001b[0m  \u001b[2m \u001b[0m\u001b[2m36\u001b[0m\u001b[2m \u001b[0m \u001b[1;33m \u001b[0m\u001b[1;33m144     \u001b[0m\u001b[1;33m \u001b[0m \u001b[1;34m \u001b[0m\u001b[1;34mNotice of proposed sale                           \u001b[0m\u001b[1;34m \u001b[0m  2023-06-06   \u001b[2m \u001b[0m\u001b[2m0001600641-23-000099\u001b[0m\u001b[2m \u001b[0m      \u001b[1;38;5;245m│\u001b[0m\n",
       "\u001b[1;38;5;245m│\u001b[0m  \u001b[1;2m \u001b[0m\u001b[1;2m37\u001b[0m\u001b[1;2m \u001b[0m \u001b[1;33m \u001b[0m\u001b[1;33m144     \u001b[0m\u001b[1;33m \u001b[0m \u001b[1;34m \u001b[0m\u001b[1;34mNotice of proposed sale                           \u001b[0m\u001b[1;34m \u001b[0m \u001b[1m \u001b[0m\u001b[1m2023-06-06 \u001b[0m\u001b[1m \u001b[0m \u001b[1;2m \u001b[0m\u001b[1;2m0001600641-23-000101\u001b[0m\u001b[1;2m \u001b[0m      \u001b[1;38;5;245m│\u001b[0m\n",
       "\u001b[1;38;5;245m│\u001b[0m  \u001b[2m \u001b[0m\u001b[2m38\u001b[0m\u001b[2m \u001b[0m \u001b[1;33m \u001b[0m\u001b[1;33m8-K     \u001b[0m\u001b[1;33m \u001b[0m \u001b[1;34m \u001b[0m\u001b[1;34mCurrent report                                    \u001b[0m\u001b[1;34m \u001b[0m  2023-06-28   \u001b[2m \u001b[0m\u001b[2m0001600641-23-000157\u001b[0m\u001b[2m \u001b[0m      \u001b[1;38;5;245m│\u001b[0m\n",
       "\u001b[1;38;5;245m│\u001b[0m  \u001b[1;2m \u001b[0m\u001b[1;2m39\u001b[0m\u001b[1;2m \u001b[0m \u001b[1;33m \u001b[0m\u001b[1;33m8-K     \u001b[0m\u001b[1;33m \u001b[0m \u001b[1;34m \u001b[0m\u001b[1;34mCurrent report                                    \u001b[0m\u001b[1;34m \u001b[0m \u001b[1m \u001b[0m\u001b[1m2023-08-09 \u001b[0m\u001b[1m \u001b[0m \u001b[1;2m \u001b[0m\u001b[1;2m0001600641-23-000160\u001b[0m\u001b[1;2m \u001b[0m      \u001b[1;38;5;245m│\u001b[0m\n",
       "\u001b[1;38;5;245m│\u001b[0m  \u001b[2m \u001b[0m\u001b[2m40\u001b[0m\u001b[2m \u001b[0m \u001b[1;33m \u001b[0m\u001b[1;33m10-Q    \u001b[0m\u001b[1;33m \u001b[0m \u001b[1;34m \u001b[0m\u001b[1;34mQuarterly report for public companies             \u001b[0m\u001b[1;34m \u001b[0m  2023-08-10   \u001b[2m \u001b[0m\u001b[2m0001600641-23-000163\u001b[0m\u001b[2m \u001b[0m      \u001b[1;38;5;245m│\u001b[0m\n",
       "\u001b[1;38;5;245m│\u001b[0m  \u001b[1;2m \u001b[0m\u001b[1;2m41\u001b[0m\u001b[1;2m \u001b[0m \u001b[1;33m \u001b[0m\u001b[1;33m8-K     \u001b[0m\u001b[1;33m \u001b[0m \u001b[1;34m \u001b[0m\u001b[1;34mCurrent report                                    \u001b[0m\u001b[1;34m \u001b[0m \u001b[1m \u001b[0m\u001b[1m2023-08-22 \u001b[0m\u001b[1m \u001b[0m \u001b[1;2m \u001b[0m\u001b[1;2m0001600641-23-000166\u001b[0m\u001b[1;2m \u001b[0m      \u001b[1;38;5;245m│\u001b[0m\n",
       "\u001b[1;38;5;245m│\u001b[0m  \u001b[2m \u001b[0m\u001b[2m42\u001b[0m\u001b[2m \u001b[0m \u001b[1;33m \u001b[0m\u001b[1;33m144     \u001b[0m\u001b[1;33m \u001b[0m \u001b[1;34m \u001b[0m\u001b[1;34mNotice of proposed sale                           \u001b[0m\u001b[1;34m \u001b[0m  2023-09-08   \u001b[2m \u001b[0m\u001b[2m0001959173-23-003840\u001b[0m\u001b[2m \u001b[0m      \u001b[1;38;5;245m│\u001b[0m\n",
       "\u001b[1;38;5;245m│\u001b[0m  \u001b[1;2m \u001b[0m\u001b[1;2m43\u001b[0m\u001b[1;2m \u001b[0m \u001b[1;33m \u001b[0m\u001b[1;33m144     \u001b[0m\u001b[1;33m \u001b[0m \u001b[1;34m \u001b[0m\u001b[1;34mNotice of proposed sale                           \u001b[0m\u001b[1;34m \u001b[0m \u001b[1m \u001b[0m\u001b[1m2023-09-08 \u001b[0m\u001b[1m \u001b[0m \u001b[1;2m \u001b[0m\u001b[1;2m0001959173-23-003841\u001b[0m\u001b[1;2m \u001b[0m      \u001b[1;38;5;245m│\u001b[0m\n",
       "\u001b[1;38;5;245m│\u001b[0m  \u001b[2m \u001b[0m\u001b[2m44\u001b[0m\u001b[2m \u001b[0m \u001b[1;33m \u001b[0m\u001b[1;33m144     \u001b[0m\u001b[1;33m \u001b[0m \u001b[1;34m \u001b[0m\u001b[1;34mNotice of proposed sale                           \u001b[0m\u001b[1;34m \u001b[0m  2023-09-08   \u001b[2m \u001b[0m\u001b[2m0001959173-23-003842\u001b[0m\u001b[2m \u001b[0m      \u001b[1;38;5;245m│\u001b[0m\n",
       "\u001b[1;38;5;245m│\u001b[0m  \u001b[1;2m \u001b[0m\u001b[1;2m45\u001b[0m\u001b[1;2m \u001b[0m \u001b[1;33m \u001b[0m\u001b[1;33m144     \u001b[0m\u001b[1;33m \u001b[0m \u001b[1;34m \u001b[0m\u001b[1;34mNotice of proposed sale                           \u001b[0m\u001b[1;34m \u001b[0m \u001b[1m \u001b[0m\u001b[1m2023-09-08 \u001b[0m\u001b[1m \u001b[0m \u001b[1;2m \u001b[0m\u001b[1;2m0001959173-23-003843\u001b[0m\u001b[1;2m \u001b[0m      \u001b[1;38;5;245m│\u001b[0m\n",
       "\u001b[1;38;5;245m│\u001b[0m  \u001b[2m \u001b[0m\u001b[2m46\u001b[0m\u001b[2m \u001b[0m \u001b[1;33m \u001b[0m\u001b[1;33m144     \u001b[0m\u001b[1;33m \u001b[0m \u001b[1;34m \u001b[0m\u001b[1;34mNotice of proposed sale                           \u001b[0m\u001b[1;34m \u001b[0m  2023-09-08   \u001b[2m \u001b[0m\u001b[2m0001959173-23-003844\u001b[0m\u001b[2m \u001b[0m      \u001b[1;38;5;245m│\u001b[0m\n",
       "\u001b[1;38;5;245m│\u001b[0m  \u001b[1;2m \u001b[0m\u001b[1;2m47\u001b[0m\u001b[1;2m \u001b[0m \u001b[1;33m \u001b[0m\u001b[1;33m144     \u001b[0m\u001b[1;33m \u001b[0m \u001b[1;34m \u001b[0m\u001b[1;34mNotice of proposed sale                           \u001b[0m\u001b[1;34m \u001b[0m \u001b[1m \u001b[0m\u001b[1m2023-09-11 \u001b[0m\u001b[1m \u001b[0m \u001b[1;2m \u001b[0m\u001b[1;2m0001959173-23-003871\u001b[0m\u001b[1;2m \u001b[0m      \u001b[1;38;5;245m│\u001b[0m\n",
       "\u001b[1;38;5;245m│\u001b[0m  \u001b[2m \u001b[0m\u001b[2m48\u001b[0m\u001b[2m \u001b[0m \u001b[1;33m \u001b[0m\u001b[1;33m144     \u001b[0m\u001b[1;33m \u001b[0m \u001b[1;34m \u001b[0m\u001b[1;34mNotice of proposed sale                           \u001b[0m\u001b[1;34m \u001b[0m  2023-09-14   \u001b[2m \u001b[0m\u001b[2m0001959173-23-003946\u001b[0m\u001b[2m \u001b[0m      \u001b[1;38;5;245m│\u001b[0m\n",
       "\u001b[1;38;5;245m│\u001b[0m  \u001b[1;2m \u001b[0m\u001b[1;2m49\u001b[0m\u001b[1;2m \u001b[0m \u001b[1;33m \u001b[0m\u001b[1;33m8-K     \u001b[0m\u001b[1;33m \u001b[0m \u001b[1;34m \u001b[0m\u001b[1;34mCurrent report                                    \u001b[0m\u001b[1;34m \u001b[0m \u001b[1m \u001b[0m\u001b[1m2023-11-08 \u001b[0m\u001b[1m \u001b[0m \u001b[1;2m \u001b[0m\u001b[1;2m0001600641-23-000217\u001b[0m\u001b[1;2m \u001b[0m      \u001b[1;38;5;245m│\u001b[0m\n",
       "\u001b[1;38;5;245m│\u001b[0m                                                                                                                 \u001b[1;38;5;245m│\u001b[0m\n",
       "\u001b[1;38;5;245m│\u001b[0m                                                                                                                 \u001b[1;38;5;245m│\u001b[0m\n",
       "\u001b[1;38;5;245m│\u001b[0m                                                                                                                 \u001b[1;38;5;245m│\u001b[0m\n",
       "\u001b[1;38;5;245m│\u001b[0m \u001b[2mShowing \u001b[0m\u001b[1;31m1\u001b[0m\u001b[2m to \u001b[0m\u001b[1;31m50\u001b[0m\u001b[2m of \u001b[0m\u001b[1m114\u001b[0m\u001b[2m filings.\u001b[0m\u001b[2m Page using \u001b[0m\u001b[1;38;5;245m← prev()\u001b[0m\u001b[2m and \u001b[0m\u001b[1;38;5;245mnext() →\u001b[0m                                                \u001b[1;38;5;245m│\u001b[0m\n",
       "\u001b[1;38;5;245m╰─\u001b[0m\u001b[1;38;5;245m──────────────────────────────\u001b[0m\u001b[1;38;5;245m Company filings between 2021-06-02 and 2025-05-12 \u001b[0m\u001b[1;38;5;245m──────────────────────────────\u001b[0m\u001b[1;38;5;245m─╯\u001b[0m"
      ]
     },
     "execution_count": 9,
     "metadata": {},
     "output_type": "execute_result"
    }
   ],
   "source": [
    "filings[0].related_filings()"
   ]
  },
  {
   "cell_type": "code",
   "execution_count": 15,
   "id": "4d65a6ed-1840-41a8-a0a6-f99a4e425793",
   "metadata": {},
   "outputs": [
    {
     "data": {
      "text/html": [
       "<pre style=\"white-space:pre;overflow-x:auto;line-height:normal;font-family:Menlo,'DejaVu Sans Mono',consolas,'Courier New',monospace\"></pre>\n"
      ],
      "text/plain": []
     },
     "metadata": {},
     "output_type": "display_data"
    },
    {
     "data": {
      "text/plain": [
       "\u001b[1;38;5;245m╭─\u001b[0m\u001b[1;38;5;245m───────────────────────────────────────\u001b[0m\u001b[1;38;5;245m \u001b[0m\u001b[1;38;5;245mFilings for \u001b[0m\u001b[1;32mApple Inc.\u001b[0m\u001b[1;2;38;5;245m [\u001b[0m\u001b[1;33m320193\u001b[0m\u001b[1;2;38;5;245m]\u001b[0m\u001b[1;38;5;245m \u001b[0m\u001b[1;38;5;245m───────────────────────────────────────\u001b[0m\u001b[1;38;5;245m─╮\u001b[0m\n",
       "\u001b[1;38;5;245m│\u001b[0m                                                                                                                 \u001b[1;38;5;245m│\u001b[0m\n",
       "\u001b[1;38;5;245m│\u001b[0m  \u001b[1m \u001b[0m\u001b[1m #\u001b[0m\u001b[1m \u001b[0m \u001b[1m \u001b[0m\u001b[1mForm    \u001b[0m\u001b[1m \u001b[0m \u001b[1m \u001b[0m\u001b[1mDescription                                       \u001b[0m\u001b[1m \u001b[0m \u001b[1m \u001b[0m\u001b[1mFiling Date\u001b[0m\u001b[1m \u001b[0m \u001b[1m \u001b[0m\u001b[1mAccession Number    \u001b[0m\u001b[1m \u001b[0m      \u001b[1;38;5;245m│\u001b[0m\n",
       "\u001b[1;38;5;245m│\u001b[0m  ─────────────────────────────────────────────────────────────────────────────────────────────────────────      \u001b[1;38;5;245m│\u001b[0m\n",
       "\u001b[1;38;5;245m│\u001b[0m  \u001b[2m \u001b[0m\u001b[2m 0\u001b[0m\u001b[2m \u001b[0m \u001b[1;33m \u001b[0m\u001b[1;33m8-K     \u001b[0m\u001b[1;33m \u001b[0m \u001b[1;34m \u001b[0m\u001b[1;34mCurrent report                                    \u001b[0m\u001b[1;34m \u001b[0m  2025-05-12   \u001b[2m \u001b[0m\u001b[2m0001140361-25-018400\u001b[0m\u001b[2m \u001b[0m      \u001b[1;38;5;245m│\u001b[0m\n",
       "\u001b[1;38;5;245m│\u001b[0m  \u001b[1;2m \u001b[0m\u001b[1;2m 1\u001b[0m\u001b[1;2m \u001b[0m \u001b[1;33m \u001b[0m\u001b[1;33m424B2   \u001b[0m\u001b[1;33m \u001b[0m \u001b[1;34m \u001b[0m\u001b[1;34mPrimary offering prospectus                       \u001b[0m\u001b[1;34m \u001b[0m \u001b[1m \u001b[0m\u001b[1m2025-05-06 \u001b[0m\u001b[1m \u001b[0m \u001b[1;2m \u001b[0m\u001b[1;2m0001140361-25-017543\u001b[0m\u001b[1;2m \u001b[0m      \u001b[1;38;5;245m│\u001b[0m\n",
       "\u001b[1;38;5;245m│\u001b[0m  \u001b[2m \u001b[0m\u001b[2m 2\u001b[0m\u001b[2m \u001b[0m \u001b[1;33m \u001b[0m\u001b[1;33mFWP     \u001b[0m\u001b[1;33m \u001b[0m \u001b[1;34m \u001b[0m\u001b[1;34mFiling of free writing prospectuses               \u001b[0m\u001b[1;34m \u001b[0m  2025-05-06   \u001b[2m \u001b[0m\u001b[2m0001140361-25-017410\u001b[0m\u001b[2m \u001b[0m      \u001b[1;38;5;245m│\u001b[0m\n",
       "\u001b[1;38;5;245m│\u001b[0m  \u001b[1;2m \u001b[0m\u001b[1;2m 3\u001b[0m\u001b[1;2m \u001b[0m \u001b[1;33m \u001b[0m\u001b[1;33m424B2   \u001b[0m\u001b[1;33m \u001b[0m \u001b[1;34m \u001b[0m\u001b[1;34mPrimary offering prospectus                       \u001b[0m\u001b[1;34m \u001b[0m \u001b[1m \u001b[0m\u001b[1m2025-05-05 \u001b[0m\u001b[1m \u001b[0m \u001b[1;2m \u001b[0m\u001b[1;2m0001140361-25-017233\u001b[0m\u001b[1;2m \u001b[0m      \u001b[1;38;5;245m│\u001b[0m\n",
       "\u001b[1;38;5;245m│\u001b[0m  \u001b[2m \u001b[0m\u001b[2m 4\u001b[0m\u001b[2m \u001b[0m \u001b[1;33m \u001b[0m\u001b[1;33m10-Q    \u001b[0m\u001b[1;33m \u001b[0m \u001b[1;34m \u001b[0m\u001b[1;34mQuarterly report for public companies             \u001b[0m\u001b[1;34m \u001b[0m  2025-05-02   \u001b[2m \u001b[0m\u001b[2m0000320193-25-000057\u001b[0m\u001b[2m \u001b[0m      \u001b[1;38;5;245m│\u001b[0m\n",
       "\u001b[1;38;5;245m│\u001b[0m  \u001b[1;2m \u001b[0m\u001b[1;2m 5\u001b[0m\u001b[1;2m \u001b[0m \u001b[1;33m \u001b[0m\u001b[1;33m8-K     \u001b[0m\u001b[1;33m \u001b[0m \u001b[1;34m \u001b[0m\u001b[1;34mCurrent report                                    \u001b[0m\u001b[1;34m \u001b[0m \u001b[1m \u001b[0m\u001b[1m2025-05-01 \u001b[0m\u001b[1m \u001b[0m \u001b[1;2m \u001b[0m\u001b[1;2m0000320193-25-000055\u001b[0m\u001b[1;2m \u001b[0m      \u001b[1;38;5;245m│\u001b[0m\n",
       "\u001b[1;38;5;245m│\u001b[0m  \u001b[2m \u001b[0m\u001b[2m 6\u001b[0m\u001b[2m \u001b[0m \u001b[1;33m \u001b[0m\u001b[1;33m4       \u001b[0m\u001b[1;33m \u001b[0m \u001b[1;34m \u001b[0m\u001b[1;34mStatement of changes in beneficial ownership      \u001b[0m\u001b[1;34m \u001b[0m  2025-04-25   \u001b[2m \u001b[0m\u001b[2m0000320193-25-000051\u001b[0m\u001b[2m \u001b[0m      \u001b[1;38;5;245m│\u001b[0m\n",
       "\u001b[1;38;5;245m│\u001b[0m  \u001b[1;2m \u001b[0m\u001b[1;2m 7\u001b[0m\u001b[1;2m \u001b[0m \u001b[1;33m \u001b[0m\u001b[1;33m144     \u001b[0m\u001b[1;33m \u001b[0m \u001b[1;34m \u001b[0m\u001b[1;34mNotice of proposed sale                           \u001b[0m\u001b[1;34m \u001b[0m \u001b[1m \u001b[0m\u001b[1m2025-04-23 \u001b[0m\u001b[1m \u001b[0m \u001b[1;2m \u001b[0m\u001b[1;2m0001950047-25-002536\u001b[0m\u001b[1;2m \u001b[0m      \u001b[1;38;5;245m│\u001b[0m\n",
       "\u001b[1;38;5;245m│\u001b[0m  \u001b[2m \u001b[0m\u001b[2m 8\u001b[0m\u001b[2m \u001b[0m \u001b[1;33m \u001b[0m\u001b[1;33m4       \u001b[0m\u001b[1;33m \u001b[0m \u001b[1;34m \u001b[0m\u001b[1;34mStatement of changes in beneficial ownership      \u001b[0m\u001b[1;34m \u001b[0m  2025-04-17   \u001b[2m \u001b[0m\u001b[2m0000320193-25-000049\u001b[0m\u001b[2m \u001b[0m      \u001b[1;38;5;245m│\u001b[0m\n",
       "\u001b[1;38;5;245m│\u001b[0m  \u001b[1;2m \u001b[0m\u001b[1;2m 9\u001b[0m\u001b[1;2m \u001b[0m \u001b[1;33m \u001b[0m\u001b[1;33m4       \u001b[0m\u001b[1;33m \u001b[0m \u001b[1;34m \u001b[0m\u001b[1;34mStatement of changes in beneficial ownership      \u001b[0m\u001b[1;34m \u001b[0m \u001b[1m \u001b[0m\u001b[1m2025-04-17 \u001b[0m\u001b[1m \u001b[0m \u001b[1;2m \u001b[0m\u001b[1;2m0000320193-25-000048\u001b[0m\u001b[1;2m \u001b[0m      \u001b[1;38;5;245m│\u001b[0m\n",
       "\u001b[1;38;5;245m│\u001b[0m  \u001b[2m \u001b[0m\u001b[2m10\u001b[0m\u001b[2m \u001b[0m \u001b[1;33m \u001b[0m\u001b[1;33mSD      \u001b[0m\u001b[1;33m \u001b[0m \u001b[1;34m \u001b[0m\u001b[1;34mSpecialized disclosure report on conflict minerals\u001b[0m\u001b[1;34m \u001b[0m  2025-04-04   \u001b[2m \u001b[0m\u001b[2m0001140361-25-012359\u001b[0m\u001b[2m \u001b[0m      \u001b[1;38;5;245m│\u001b[0m\n",
       "\u001b[1;38;5;245m│\u001b[0m  \u001b[2m    \u001b[0m \u001b[1;33m          \u001b[0m \u001b[1;34m \u001b[0m\u001b[1;34mor resource extraction payments                   \u001b[0m\u001b[1;34m \u001b[0m               \u001b[2m                      \u001b[0m      \u001b[1;38;5;245m│\u001b[0m\n",
       "\u001b[1;38;5;245m│\u001b[0m  \u001b[1;2m \u001b[0m\u001b[1;2m11\u001b[0m\u001b[1;2m \u001b[0m \u001b[1;33m \u001b[0m\u001b[1;33m4       \u001b[0m\u001b[1;33m \u001b[0m \u001b[1;34m \u001b[0m\u001b[1;34mStatement of changes in beneficial ownership      \u001b[0m\u001b[1;34m \u001b[0m \u001b[1m \u001b[0m\u001b[1m2025-04-03 \u001b[0m\u001b[1m \u001b[0m \u001b[1;2m \u001b[0m\u001b[1;2m0000320193-25-000045\u001b[0m\u001b[1;2m \u001b[0m      \u001b[1;38;5;245m│\u001b[0m\n",
       "\u001b[1;38;5;245m│\u001b[0m  \u001b[2m \u001b[0m\u001b[2m12\u001b[0m\u001b[2m \u001b[0m \u001b[1;33m \u001b[0m\u001b[1;33m4       \u001b[0m\u001b[1;33m \u001b[0m \u001b[1;34m \u001b[0m\u001b[1;34mStatement of changes in beneficial ownership      \u001b[0m\u001b[1;34m \u001b[0m  2025-04-03   \u001b[2m \u001b[0m\u001b[2m0000320193-25-000044\u001b[0m\u001b[2m \u001b[0m      \u001b[1;38;5;245m│\u001b[0m\n",
       "\u001b[1;38;5;245m│\u001b[0m  \u001b[1;2m \u001b[0m\u001b[1;2m13\u001b[0m\u001b[1;2m \u001b[0m \u001b[1;33m \u001b[0m\u001b[1;33m4       \u001b[0m\u001b[1;33m \u001b[0m \u001b[1;34m \u001b[0m\u001b[1;34mStatement of changes in beneficial ownership      \u001b[0m\u001b[1;34m \u001b[0m \u001b[1m \u001b[0m\u001b[1m2025-04-03 \u001b[0m\u001b[1m \u001b[0m \u001b[1;2m \u001b[0m\u001b[1;2m0000320193-25-000043\u001b[0m\u001b[1;2m \u001b[0m      \u001b[1;38;5;245m│\u001b[0m\n",
       "\u001b[1;38;5;245m│\u001b[0m  \u001b[2m \u001b[0m\u001b[2m14\u001b[0m\u001b[2m \u001b[0m \u001b[1;33m \u001b[0m\u001b[1;33m4       \u001b[0m\u001b[1;33m \u001b[0m \u001b[1;34m \u001b[0m\u001b[1;34mStatement of changes in beneficial ownership      \u001b[0m\u001b[1;34m \u001b[0m  2025-04-03   \u001b[2m \u001b[0m\u001b[2m0000320193-25-000042\u001b[0m\u001b[2m \u001b[0m      \u001b[1;38;5;245m│\u001b[0m\n",
       "\u001b[1;38;5;245m│\u001b[0m  \u001b[1;2m \u001b[0m\u001b[1;2m15\u001b[0m\u001b[1;2m \u001b[0m \u001b[1;33m \u001b[0m\u001b[1;33m144     \u001b[0m\u001b[1;33m \u001b[0m \u001b[1;34m \u001b[0m\u001b[1;34mNotice of proposed sale                           \u001b[0m\u001b[1;34m \u001b[0m \u001b[1m \u001b[0m\u001b[1m2025-04-02 \u001b[0m\u001b[1m \u001b[0m \u001b[1;2m \u001b[0m\u001b[1;2m0001950047-25-002338\u001b[0m\u001b[1;2m \u001b[0m      \u001b[1;38;5;245m│\u001b[0m\n",
       "\u001b[1;38;5;245m│\u001b[0m  \u001b[2m \u001b[0m\u001b[2m16\u001b[0m\u001b[2m \u001b[0m \u001b[1;33m \u001b[0m\u001b[1;33m144     \u001b[0m\u001b[1;33m \u001b[0m \u001b[1;34m \u001b[0m\u001b[1;34mNotice of proposed sale                           \u001b[0m\u001b[1;34m \u001b[0m  2025-04-02   \u001b[2m \u001b[0m\u001b[2m0001969223-25-000218\u001b[0m\u001b[2m \u001b[0m      \u001b[1;38;5;245m│\u001b[0m\n",
       "\u001b[1;38;5;245m│\u001b[0m  \u001b[1;2m \u001b[0m\u001b[1;2m17\u001b[0m\u001b[1;2m \u001b[0m \u001b[1;33m \u001b[0m\u001b[1;33m144     \u001b[0m\u001b[1;33m \u001b[0m \u001b[1;34m \u001b[0m\u001b[1;34mNotice of proposed sale                           \u001b[0m\u001b[1;34m \u001b[0m \u001b[1m \u001b[0m\u001b[1m2025-04-02 \u001b[0m\u001b[1m \u001b[0m \u001b[1;2m \u001b[0m\u001b[1;2m0001959173-25-002460\u001b[0m\u001b[1;2m \u001b[0m      \u001b[1;38;5;245m│\u001b[0m\n",
       "\u001b[1;38;5;245m│\u001b[0m  \u001b[2m \u001b[0m\u001b[2m18\u001b[0m\u001b[2m \u001b[0m \u001b[1;33m \u001b[0m\u001b[1;33m4       \u001b[0m\u001b[1;33m \u001b[0m \u001b[1;34m \u001b[0m\u001b[1;34mStatement of changes in beneficial ownership      \u001b[0m\u001b[1;34m \u001b[0m  2025-02-27   \u001b[2m \u001b[0m\u001b[2m0000320193-25-000036\u001b[0m\u001b[2m \u001b[0m      \u001b[1;38;5;245m│\u001b[0m\n",
       "\u001b[1;38;5;245m│\u001b[0m  \u001b[1;2m \u001b[0m\u001b[1;2m19\u001b[0m\u001b[1;2m \u001b[0m \u001b[1;33m \u001b[0m\u001b[1;33m4       \u001b[0m\u001b[1;33m \u001b[0m \u001b[1;34m \u001b[0m\u001b[1;34mStatement of changes in beneficial ownership      \u001b[0m\u001b[1;34m \u001b[0m \u001b[1m \u001b[0m\u001b[1m2025-02-27 \u001b[0m\u001b[1m \u001b[0m \u001b[1;2m \u001b[0m\u001b[1;2m0000320193-25-000035\u001b[0m\u001b[1;2m \u001b[0m      \u001b[1;38;5;245m│\u001b[0m\n",
       "\u001b[1;38;5;245m│\u001b[0m  \u001b[2m \u001b[0m\u001b[2m20\u001b[0m\u001b[2m \u001b[0m \u001b[1;33m \u001b[0m\u001b[1;33m4       \u001b[0m\u001b[1;33m \u001b[0m \u001b[1;34m \u001b[0m\u001b[1;34mStatement of changes in beneficial ownership      \u001b[0m\u001b[1;34m \u001b[0m  2025-02-27   \u001b[2m \u001b[0m\u001b[2m0000320193-25-000034\u001b[0m\u001b[2m \u001b[0m      \u001b[1;38;5;245m│\u001b[0m\n",
       "\u001b[1;38;5;245m│\u001b[0m  \u001b[1;2m \u001b[0m\u001b[1;2m21\u001b[0m\u001b[1;2m \u001b[0m \u001b[1;33m \u001b[0m\u001b[1;33m4       \u001b[0m\u001b[1;33m \u001b[0m \u001b[1;34m \u001b[0m\u001b[1;34mStatement of changes in beneficial ownership      \u001b[0m\u001b[1;34m \u001b[0m \u001b[1m \u001b[0m\u001b[1m2025-02-27 \u001b[0m\u001b[1m \u001b[0m \u001b[1;2m \u001b[0m\u001b[1;2m0000320193-25-000033\u001b[0m\u001b[1;2m \u001b[0m      \u001b[1;38;5;245m│\u001b[0m\n",
       "\u001b[1;38;5;245m│\u001b[0m  \u001b[2m \u001b[0m\u001b[2m22\u001b[0m\u001b[2m \u001b[0m \u001b[1;33m \u001b[0m\u001b[1;33m4       \u001b[0m\u001b[1;33m \u001b[0m \u001b[1;34m \u001b[0m\u001b[1;34mStatement of changes in beneficial ownership      \u001b[0m\u001b[1;34m \u001b[0m  2025-02-27   \u001b[2m \u001b[0m\u001b[2m0000320193-25-000032\u001b[0m\u001b[2m \u001b[0m      \u001b[1;38;5;245m│\u001b[0m\n",
       "\u001b[1;38;5;245m│\u001b[0m  \u001b[1;2m \u001b[0m\u001b[1;2m23\u001b[0m\u001b[1;2m \u001b[0m \u001b[1;33m \u001b[0m\u001b[1;33m4       \u001b[0m\u001b[1;33m \u001b[0m \u001b[1;34m \u001b[0m\u001b[1;34mStatement of changes in beneficial ownership      \u001b[0m\u001b[1;34m \u001b[0m \u001b[1m \u001b[0m\u001b[1m2025-02-27 \u001b[0m\u001b[1m \u001b[0m \u001b[1;2m \u001b[0m\u001b[1;2m0000320193-25-000031\u001b[0m\u001b[1;2m \u001b[0m      \u001b[1;38;5;245m│\u001b[0m\n",
       "\u001b[1;38;5;245m│\u001b[0m  \u001b[2m \u001b[0m\u001b[2m24\u001b[0m\u001b[2m \u001b[0m \u001b[1;33m \u001b[0m\u001b[1;33m4       \u001b[0m\u001b[1;33m \u001b[0m \u001b[1;34m \u001b[0m\u001b[1;34mStatement of changes in beneficial ownership      \u001b[0m\u001b[1;34m \u001b[0m  2025-02-27   \u001b[2m \u001b[0m\u001b[2m0000320193-25-000030\u001b[0m\u001b[2m \u001b[0m      \u001b[1;38;5;245m│\u001b[0m\n",
       "\u001b[1;38;5;245m│\u001b[0m  \u001b[1;2m \u001b[0m\u001b[1;2m25\u001b[0m\u001b[1;2m \u001b[0m \u001b[1;33m \u001b[0m\u001b[1;33m8-K     \u001b[0m\u001b[1;33m \u001b[0m \u001b[1;34m \u001b[0m\u001b[1;34mCurrent report                                    \u001b[0m\u001b[1;34m \u001b[0m \u001b[1m \u001b[0m\u001b[1m2025-02-25 \u001b[0m\u001b[1m \u001b[0m \u001b[1;2m \u001b[0m\u001b[1;2m0001140361-25-005876\u001b[0m\u001b[1;2m \u001b[0m      \u001b[1;38;5;245m│\u001b[0m\n",
       "\u001b[1;38;5;245m│\u001b[0m  \u001b[2m \u001b[0m\u001b[2m26\u001b[0m\u001b[2m \u001b[0m \u001b[1;33m \u001b[0m\u001b[1;33mPX14A6G \u001b[0m\u001b[1;33m \u001b[0m \u001b[1;34m \u001b[0m\u001b[1;34mExempt solicitation                               \u001b[0m\u001b[1;34m \u001b[0m  2025-02-13   \u001b[2m \u001b[0m\u001b[2m0001096906-25-000152\u001b[0m\u001b[2m \u001b[0m      \u001b[1;38;5;245m│\u001b[0m\n",
       "\u001b[1;38;5;245m│\u001b[0m  \u001b[1;2m \u001b[0m\u001b[1;2m27\u001b[0m\u001b[1;2m \u001b[0m \u001b[1;33m \u001b[0m\u001b[1;33m4       \u001b[0m\u001b[1;33m \u001b[0m \u001b[1;34m \u001b[0m\u001b[1;34mStatement of changes in beneficial ownership      \u001b[0m\u001b[1;34m \u001b[0m \u001b[1m \u001b[0m\u001b[1m2025-02-04 \u001b[0m\u001b[1m \u001b[0m \u001b[1;2m \u001b[0m\u001b[1;2m0000320193-25-000022\u001b[0m\u001b[1;2m \u001b[0m      \u001b[1;38;5;245m│\u001b[0m\n",
       "\u001b[1;38;5;245m│\u001b[0m  \u001b[2m \u001b[0m\u001b[2m28\u001b[0m\u001b[2m \u001b[0m \u001b[1;33m \u001b[0m\u001b[1;33m4       \u001b[0m\u001b[1;33m \u001b[0m \u001b[1;34m \u001b[0m\u001b[1;34mStatement of changes in beneficial ownership      \u001b[0m\u001b[1;34m \u001b[0m  2025-02-04   \u001b[2m \u001b[0m\u001b[2m0000320193-25-000021\u001b[0m\u001b[2m \u001b[0m      \u001b[1;38;5;245m│\u001b[0m\n",
       "\u001b[1;38;5;245m│\u001b[0m  \u001b[1;2m \u001b[0m\u001b[1;2m29\u001b[0m\u001b[1;2m \u001b[0m \u001b[1;33m \u001b[0m\u001b[1;33m4       \u001b[0m\u001b[1;33m \u001b[0m \u001b[1;34m \u001b[0m\u001b[1;34mStatement of changes in beneficial ownership      \u001b[0m\u001b[1;34m \u001b[0m \u001b[1m \u001b[0m\u001b[1m2025-02-04 \u001b[0m\u001b[1m \u001b[0m \u001b[1;2m \u001b[0m\u001b[1;2m0000320193-25-000020\u001b[0m\u001b[1;2m \u001b[0m      \u001b[1;38;5;245m│\u001b[0m\n",
       "\u001b[1;38;5;245m│\u001b[0m  \u001b[2m \u001b[0m\u001b[2m30\u001b[0m\u001b[2m \u001b[0m \u001b[1;33m \u001b[0m\u001b[1;33m4       \u001b[0m\u001b[1;33m \u001b[0m \u001b[1;34m \u001b[0m\u001b[1;34mStatement of changes in beneficial ownership      \u001b[0m\u001b[1;34m \u001b[0m  2025-02-04   \u001b[2m \u001b[0m\u001b[2m0000320193-25-000019\u001b[0m\u001b[2m \u001b[0m      \u001b[1;38;5;245m│\u001b[0m\n",
       "\u001b[1;38;5;245m│\u001b[0m  \u001b[1;2m \u001b[0m\u001b[1;2m31\u001b[0m\u001b[1;2m \u001b[0m \u001b[1;33m \u001b[0m\u001b[1;33m4       \u001b[0m\u001b[1;33m \u001b[0m \u001b[1;34m \u001b[0m\u001b[1;34mStatement of changes in beneficial ownership      \u001b[0m\u001b[1;34m \u001b[0m \u001b[1m \u001b[0m\u001b[1m2025-02-04 \u001b[0m\u001b[1m \u001b[0m \u001b[1;2m \u001b[0m\u001b[1;2m0000320193-25-000018\u001b[0m\u001b[1;2m \u001b[0m      \u001b[1;38;5;245m│\u001b[0m\n",
       "\u001b[1;38;5;245m│\u001b[0m  \u001b[2m \u001b[0m\u001b[2m32\u001b[0m\u001b[2m \u001b[0m \u001b[1;33m \u001b[0m\u001b[1;33m4       \u001b[0m\u001b[1;33m \u001b[0m \u001b[1;34m \u001b[0m\u001b[1;34mStatement of changes in beneficial ownership      \u001b[0m\u001b[1;34m \u001b[0m  2025-02-04   \u001b[2m \u001b[0m\u001b[2m0000320193-25-000017\u001b[0m\u001b[2m \u001b[0m      \u001b[1;38;5;245m│\u001b[0m\n",
       "\u001b[1;38;5;245m│\u001b[0m  \u001b[1;2m \u001b[0m\u001b[1;2m33\u001b[0m\u001b[1;2m \u001b[0m \u001b[1;33m \u001b[0m\u001b[1;33m4       \u001b[0m\u001b[1;33m \u001b[0m \u001b[1;34m \u001b[0m\u001b[1;34mStatement of changes in beneficial ownership      \u001b[0m\u001b[1;34m \u001b[0m \u001b[1m \u001b[0m\u001b[1m2025-02-04 \u001b[0m\u001b[1m \u001b[0m \u001b[1;2m \u001b[0m\u001b[1;2m0000320193-25-000016\u001b[0m\u001b[1;2m \u001b[0m      \u001b[1;38;5;245m│\u001b[0m\n",
       "\u001b[1;38;5;245m│\u001b[0m  \u001b[2m \u001b[0m\u001b[2m34\u001b[0m\u001b[2m \u001b[0m \u001b[1;33m \u001b[0m\u001b[1;33m144     \u001b[0m\u001b[1;33m \u001b[0m \u001b[1;34m \u001b[0m\u001b[1;34mNotice of proposed sale                           \u001b[0m\u001b[1;34m \u001b[0m  2025-02-03   \u001b[2m \u001b[0m\u001b[2m0001921094-25-000087\u001b[0m\u001b[2m \u001b[0m      \u001b[1;38;5;245m│\u001b[0m\n",
       "\u001b[1;38;5;245m│\u001b[0m  \u001b[1;2m \u001b[0m\u001b[1;2m35\u001b[0m\u001b[1;2m \u001b[0m \u001b[1;33m \u001b[0m\u001b[1;33m10-Q    \u001b[0m\u001b[1;33m \u001b[0m \u001b[1;34m \u001b[0m\u001b[1;34mQuarterly report for public companies             \u001b[0m\u001b[1;34m \u001b[0m \u001b[1m \u001b[0m\u001b[1m2025-01-31 \u001b[0m\u001b[1m \u001b[0m \u001b[1;2m \u001b[0m\u001b[1;2m0000320193-25-000008\u001b[0m\u001b[1;2m \u001b[0m      \u001b[1;38;5;245m│\u001b[0m\n",
       "\u001b[1;38;5;245m│\u001b[0m  \u001b[2m \u001b[0m\u001b[2m36\u001b[0m\u001b[2m \u001b[0m \u001b[1;33m \u001b[0m\u001b[1;33m8-K     \u001b[0m\u001b[1;33m \u001b[0m \u001b[1;34m \u001b[0m\u001b[1;34mCurrent report                                    \u001b[0m\u001b[1;34m \u001b[0m  2025-01-30   \u001b[2m \u001b[0m\u001b[2m0000320193-25-000007\u001b[0m\u001b[2m \u001b[0m      \u001b[1;38;5;245m│\u001b[0m\n",
       "\u001b[1;38;5;245m│\u001b[0m  \u001b[1;2m \u001b[0m\u001b[1;2m37\u001b[0m\u001b[1;2m \u001b[0m \u001b[1;33m \u001b[0m\u001b[1;33mPX14A6G \u001b[0m\u001b[1;33m \u001b[0m \u001b[1;34m \u001b[0m\u001b[1;34mExempt solicitation                               \u001b[0m\u001b[1;34m \u001b[0m \u001b[1m \u001b[0m\u001b[1m2025-01-29 \u001b[0m\u001b[1m \u001b[0m \u001b[1;2m \u001b[0m\u001b[1;2m0001096906-25-000100\u001b[0m\u001b[1;2m \u001b[0m      \u001b[1;38;5;245m│\u001b[0m\n",
       "\u001b[1;38;5;245m│\u001b[0m  \u001b[2m \u001b[0m\u001b[2m38\u001b[0m\u001b[2m \u001b[0m \u001b[1;33m \u001b[0m\u001b[1;33m3       \u001b[0m\u001b[1;33m \u001b[0m \u001b[1;34m \u001b[0m\u001b[1;34mInitial statement of beneficial ownership         \u001b[0m\u001b[1;34m \u001b[0m  2025-01-10   \u001b[2m \u001b[0m\u001b[2m0000320193-25-000002\u001b[0m\u001b[2m \u001b[0m      \u001b[1;38;5;245m│\u001b[0m\n",
       "\u001b[1;38;5;245m│\u001b[0m  \u001b[1;2m \u001b[0m\u001b[1;2m39\u001b[0m\u001b[1;2m \u001b[0m \u001b[1;33m \u001b[0m\u001b[1;33mDEFA14A \u001b[0m\u001b[1;33m \u001b[0m \u001b[1;34m \u001b[0m\u001b[1;34mAdditional definitive proxy materials             \u001b[0m\u001b[1;34m \u001b[0m \u001b[1m \u001b[0m\u001b[1m2025-01-10 \u001b[0m\u001b[1m \u001b[0m \u001b[1;2m \u001b[0m\u001b[1;2m0001308179-25-000009\u001b[0m\u001b[1;2m \u001b[0m      \u001b[1;38;5;245m│\u001b[0m\n",
       "\u001b[1;38;5;245m│\u001b[0m  \u001b[2m \u001b[0m\u001b[2m40\u001b[0m\u001b[2m \u001b[0m \u001b[1;33m \u001b[0m\u001b[1;33mDEF 14A \u001b[0m\u001b[1;33m \u001b[0m \u001b[1;34m \u001b[0m\u001b[1;34mDefinitive proxy statement                        \u001b[0m\u001b[1;34m \u001b[0m  2025-01-10   \u001b[2m \u001b[0m\u001b[2m0001308179-25-000008\u001b[0m\u001b[2m \u001b[0m      \u001b[1;38;5;245m│\u001b[0m\n",
       "\u001b[1;38;5;245m│\u001b[0m  \u001b[1;2m \u001b[0m\u001b[1;2m41\u001b[0m\u001b[1;2m \u001b[0m \u001b[1;33m \u001b[0m\u001b[1;33m8-K     \u001b[0m\u001b[1;33m \u001b[0m \u001b[1;34m \u001b[0m\u001b[1;34mCurrent report                                    \u001b[0m\u001b[1;34m \u001b[0m \u001b[1m \u001b[0m\u001b[1m2025-01-03 \u001b[0m\u001b[1m \u001b[0m \u001b[1;2m \u001b[0m\u001b[1;2m0001140361-25-000228\u001b[0m\u001b[1;2m \u001b[0m      \u001b[1;38;5;245m│\u001b[0m\n",
       "\u001b[1;38;5;245m│\u001b[0m  \u001b[2m \u001b[0m\u001b[2m42\u001b[0m\u001b[2m \u001b[0m \u001b[1;33m \u001b[0m\u001b[1;33m4       \u001b[0m\u001b[1;33m \u001b[0m \u001b[1;34m \u001b[0m\u001b[1;34mStatement of changes in beneficial ownership      \u001b[0m\u001b[1;34m \u001b[0m  2024-12-18   \u001b[2m \u001b[0m\u001b[2m0000320193-24-000132\u001b[0m\u001b[2m \u001b[0m      \u001b[1;38;5;245m│\u001b[0m\n",
       "\u001b[1;38;5;245m│\u001b[0m  \u001b[1;2m \u001b[0m\u001b[1;2m43\u001b[0m\u001b[1;2m \u001b[0m \u001b[1;33m \u001b[0m\u001b[1;33m144     \u001b[0m\u001b[1;33m \u001b[0m \u001b[1;34m \u001b[0m\u001b[1;34mNotice of proposed sale                           \u001b[0m\u001b[1;34m \u001b[0m \u001b[1m \u001b[0m\u001b[1m2024-12-16 \u001b[0m\u001b[1m \u001b[0m \u001b[1;2m \u001b[0m\u001b[1;2m0001973141-24-000617\u001b[0m\u001b[1;2m \u001b[0m      \u001b[1;38;5;245m│\u001b[0m\n",
       "\u001b[1;38;5;245m│\u001b[0m  \u001b[2m \u001b[0m\u001b[2m44\u001b[0m\u001b[2m \u001b[0m \u001b[1;33m \u001b[0m\u001b[1;33m4       \u001b[0m\u001b[1;33m \u001b[0m \u001b[1;34m \u001b[0m\u001b[1;34mStatement of changes in beneficial ownership      \u001b[0m\u001b[1;34m \u001b[0m  2024-11-19   \u001b[2m \u001b[0m\u001b[2m0000320193-24-000130\u001b[0m\u001b[2m \u001b[0m      \u001b[1;38;5;245m│\u001b[0m\n",
       "\u001b[1;38;5;245m│\u001b[0m  \u001b[1;2m \u001b[0m\u001b[1;2m45\u001b[0m\u001b[1;2m \u001b[0m \u001b[1;33m \u001b[0m\u001b[1;33m4       \u001b[0m\u001b[1;33m \u001b[0m \u001b[1;34m \u001b[0m\u001b[1;34mStatement of changes in beneficial ownership      \u001b[0m\u001b[1;34m \u001b[0m \u001b[1m \u001b[0m\u001b[1m2024-11-19 \u001b[0m\u001b[1m \u001b[0m \u001b[1;2m \u001b[0m\u001b[1;2m0000320193-24-000129\u001b[0m\u001b[1;2m \u001b[0m      \u001b[1;38;5;245m│\u001b[0m\n",
       "\u001b[1;38;5;245m│\u001b[0m  \u001b[2m \u001b[0m\u001b[2m46\u001b[0m\u001b[2m \u001b[0m \u001b[1;33m \u001b[0m\u001b[1;33m144     \u001b[0m\u001b[1;33m \u001b[0m \u001b[1;34m \u001b[0m\u001b[1;34mNotice of proposed sale                           \u001b[0m\u001b[1;34m \u001b[0m  2024-11-19   \u001b[2m \u001b[0m\u001b[2m0001921094-24-001434\u001b[0m\u001b[2m \u001b[0m      \u001b[1;38;5;245m│\u001b[0m\n",
       "\u001b[1;38;5;245m│\u001b[0m  \u001b[1;2m \u001b[0m\u001b[1;2m47\u001b[0m\u001b[1;2m \u001b[0m \u001b[1;33m \u001b[0m\u001b[1;33m144     \u001b[0m\u001b[1;33m \u001b[0m \u001b[1;34m \u001b[0m\u001b[1;34mNotice of proposed sale                           \u001b[0m\u001b[1;34m \u001b[0m \u001b[1m \u001b[0m\u001b[1m2024-11-18 \u001b[0m\u001b[1m \u001b[0m \u001b[1;2m \u001b[0m\u001b[1;2m0001921094-24-001420\u001b[0m\u001b[1;2m \u001b[0m      \u001b[1;38;5;245m│\u001b[0m\n",
       "\u001b[1;38;5;245m│\u001b[0m  \u001b[2m \u001b[0m\u001b[2m48\u001b[0m\u001b[2m \u001b[0m \u001b[1;33m \u001b[0m\u001b[1;33m144     \u001b[0m\u001b[1;33m \u001b[0m \u001b[1;34m \u001b[0m\u001b[1;34mNotice of proposed sale                           \u001b[0m\u001b[1;34m \u001b[0m  2024-11-15   \u001b[2m \u001b[0m\u001b[2m0001921094-24-001407\u001b[0m\u001b[2m \u001b[0m      \u001b[1;38;5;245m│\u001b[0m\n",
       "\u001b[1;38;5;245m│\u001b[0m  \u001b[1;2m \u001b[0m\u001b[1;2m49\u001b[0m\u001b[1;2m \u001b[0m \u001b[1;33m \u001b[0m\u001b[1;33m4       \u001b[0m\u001b[1;33m \u001b[0m \u001b[1;34m \u001b[0m\u001b[1;34mStatement of changes in beneficial ownership      \u001b[0m\u001b[1;34m \u001b[0m \u001b[1m \u001b[0m\u001b[1m2024-11-07 \u001b[0m\u001b[1m \u001b[0m \u001b[1;2m \u001b[0m\u001b[1;2m0000320193-24-000126\u001b[0m\u001b[1;2m \u001b[0m      \u001b[1;38;5;245m│\u001b[0m\n",
       "\u001b[1;38;5;245m│\u001b[0m                                                                                                                 \u001b[1;38;5;245m│\u001b[0m\n",
       "\u001b[1;38;5;245m│\u001b[0m                                                                                                                 \u001b[1;38;5;245m│\u001b[0m\n",
       "\u001b[1;38;5;245m│\u001b[0m                                                                                                                 \u001b[1;38;5;245m│\u001b[0m\n",
       "\u001b[1;38;5;245m│\u001b[0m \u001b[2mShowing \u001b[0m\u001b[1;31m1\u001b[0m\u001b[2m to \u001b[0m\u001b[1;31m50\u001b[0m\u001b[2m of \u001b[0m\u001b[1m2,151\u001b[0m\u001b[2m filings.\u001b[0m\u001b[2m Page using \u001b[0m\u001b[1;38;5;245m← prev()\u001b[0m\u001b[2m and \u001b[0m\u001b[1;38;5;245mnext() →\u001b[0m                                              \u001b[1;38;5;245m│\u001b[0m\n",
       "\u001b[1;38;5;245m╰─\u001b[0m\u001b[1;38;5;245m──────────────────────────────\u001b[0m\u001b[1;38;5;245m Company filings between 1994-01-26 and 2025-05-12 \u001b[0m\u001b[1;38;5;245m──────────────────────────────\u001b[0m\u001b[1;38;5;245m─╯\u001b[0m"
      ]
     },
     "execution_count": 15,
     "metadata": {},
     "output_type": "execute_result"
    }
   ],
   "source": [
    "apple = Company(\"AAPL\")\n",
    "apple.get_filings()"
   ]
  },
  {
   "cell_type": "code",
   "execution_count": 16,
   "id": "b0ba89b7-5ad1-4d4d-807b-2f1780621759",
   "metadata": {},
   "outputs": [
    {
     "data": {
      "text/html": [
       "<pre style=\"white-space:pre;overflow-x:auto;line-height:normal;font-family:Menlo,'DejaVu Sans Mono',consolas,'Courier New',monospace\"></pre>\n"
      ],
      "text/plain": []
     },
     "metadata": {},
     "output_type": "display_data"
    },
    {
     "data": {
      "text/plain": [
       "╭───────────────────────────── Company Facts(Apple Inc. [320193] 23,696 total facts) ─────────────────────────────╮\n",
       "│                                                                                                                 │\n",
       "│  \u001b[1m \u001b[0m\u001b[1m     \u001b[0m\u001b[1m \u001b[0m \u001b[1m \u001b[0m\u001b[1mnamesp…\u001b[0m\u001b[1m \u001b[0m \u001b[1;38;5;39m \u001b[0m\u001b[1;38;5;39mfact   \u001b[0m\u001b[1;38;5;39m \u001b[0m \u001b[1m \u001b[0m\u001b[1mval    \u001b[0m\u001b[1m \u001b[0m \u001b[1m \u001b[0m\u001b[1maccn   \u001b[0m\u001b[1m \u001b[0m \u001b[1m \u001b[0m\u001b[1mend    \u001b[0m\u001b[1m \u001b[0m \u001b[1m \u001b[0m\u001b[1mfy    \u001b[0m\u001b[1m \u001b[0m \u001b[1m \u001b[0m\u001b[1mfp \u001b[0m\u001b[1m \u001b[0m \u001b[1;38;5;71m \u001b[0m\u001b[1;38;5;71mform  \u001b[0m\u001b[1;38;5;71m \u001b[0m \u001b[1;38;5;39m \u001b[0m\u001b[1;38;5;39mfiled \u001b[0m\u001b[1;38;5;39m \u001b[0m \u001b[1m \u001b[0m\u001b[1mframe  \u001b[0m\u001b[1m \u001b[0m \u001b[1m \u001b[0m\u001b[1mstart \u001b[0m\u001b[1m \u001b[0m  │\n",
       "│  ─────────────────────────────────────────────────────────────────────────────────────────────────────────────  │\n",
       "│  \u001b[1m \u001b[0m\u001b[1m0    \u001b[0m\u001b[1m \u001b[0m \u001b[1m \u001b[0m\u001b[1mdei    \u001b[0m\u001b[1m \u001b[0m \u001b[1;38;5;39m \u001b[0m\u001b[1;38;5;39mEntity…\u001b[0m\u001b[1;38;5;39m \u001b[0m \u001b[1m \u001b[0m\u001b[1m895816…\u001b[0m\u001b[1m \u001b[0m \u001b[1m \u001b[0m\u001b[1m000119…\u001b[0m\u001b[1m \u001b[0m \u001b[1m \u001b[0m\u001b[1m2009-0…\u001b[0m\u001b[1m \u001b[0m \u001b[1m \u001b[0m\u001b[1m2009.0\u001b[0m\u001b[1m \u001b[0m \u001b[1m \u001b[0m\u001b[1mQ3 \u001b[0m\u001b[1m \u001b[0m \u001b[1;38;5;71m \u001b[0m\u001b[1;38;5;71m10-Q  \u001b[0m\u001b[1;38;5;71m \u001b[0m \u001b[1;38;5;39m \u001b[0m\u001b[1;38;5;39m2009-…\u001b[0m\u001b[1;38;5;39m \u001b[0m \u001b[1m \u001b[0m\u001b[1mCY2009…\u001b[0m\u001b[1m \u001b[0m \u001b[1m \u001b[0m\u001b[1mNone  \u001b[0m\u001b[1m \u001b[0m  │\n",
       "│   1       dei      \u001b[38;5;39m \u001b[0m\u001b[38;5;39mEntity…\u001b[0m\u001b[38;5;39m \u001b[0m  900678…   000119…   2009-1…   2009.0   FY   \u001b[38;5;71m \u001b[0m\u001b[38;5;71m10-K  \u001b[0m\u001b[38;5;71m \u001b[0m \u001b[38;5;39m \u001b[0m\u001b[38;5;39m2009-…\u001b[0m\u001b[38;5;39m \u001b[0m  None      None     │\n",
       "│  \u001b[1m \u001b[0m\u001b[1m2    \u001b[0m\u001b[1m \u001b[0m \u001b[1m \u001b[0m\u001b[1mdei    \u001b[0m\u001b[1m \u001b[0m \u001b[1;38;5;39m \u001b[0m\u001b[1;38;5;39mEntity…\u001b[0m\u001b[1;38;5;39m \u001b[0m \u001b[1m \u001b[0m\u001b[1m900678…\u001b[0m\u001b[1m \u001b[0m \u001b[1m \u001b[0m\u001b[1m000119…\u001b[0m\u001b[1m \u001b[0m \u001b[1m \u001b[0m\u001b[1m2009-1…\u001b[0m\u001b[1m \u001b[0m \u001b[1m \u001b[0m\u001b[1m2009.0\u001b[0m\u001b[1m \u001b[0m \u001b[1m \u001b[0m\u001b[1mFY \u001b[0m\u001b[1m \u001b[0m \u001b[1;38;5;71m \u001b[0m\u001b[1;38;5;71m10-K/A\u001b[0m\u001b[1;38;5;71m \u001b[0m \u001b[1;38;5;39m \u001b[0m\u001b[1;38;5;39m2010-…\u001b[0m\u001b[1;38;5;39m \u001b[0m \u001b[1m \u001b[0m\u001b[1mCY2009…\u001b[0m\u001b[1m \u001b[0m \u001b[1m \u001b[0m\u001b[1mNone  \u001b[0m\u001b[1m \u001b[0m  │\n",
       "│   3       dei      \u001b[38;5;39m \u001b[0m\u001b[38;5;39mEntity…\u001b[0m\u001b[38;5;39m \u001b[0m  906794…   000119…   2010-0…   2010.0   Q1   \u001b[38;5;71m \u001b[0m\u001b[38;5;71m10-Q  \u001b[0m\u001b[38;5;71m \u001b[0m \u001b[38;5;39m \u001b[0m\u001b[38;5;39m2010-…\u001b[0m\u001b[38;5;39m \u001b[0m  CY2009…   None     │\n",
       "│  \u001b[1m \u001b[0m\u001b[1m4    \u001b[0m\u001b[1m \u001b[0m \u001b[1m \u001b[0m\u001b[1mdei    \u001b[0m\u001b[1m \u001b[0m \u001b[1;38;5;39m \u001b[0m\u001b[1;38;5;39mEntity…\u001b[0m\u001b[1;38;5;39m \u001b[0m \u001b[1m \u001b[0m\u001b[1m909938…\u001b[0m\u001b[1m \u001b[0m \u001b[1m \u001b[0m\u001b[1m000119…\u001b[0m\u001b[1m \u001b[0m \u001b[1m \u001b[0m\u001b[1m2010-0…\u001b[0m\u001b[1m \u001b[0m \u001b[1m \u001b[0m\u001b[1m2010.0\u001b[0m\u001b[1m \u001b[0m \u001b[1m \u001b[0m\u001b[1mQ2 \u001b[0m\u001b[1m \u001b[0m \u001b[1;38;5;71m \u001b[0m\u001b[1;38;5;71m10-Q  \u001b[0m\u001b[1;38;5;71m \u001b[0m \u001b[1;38;5;39m \u001b[0m\u001b[1;38;5;39m2010-…\u001b[0m\u001b[1;38;5;39m \u001b[0m \u001b[1m \u001b[0m\u001b[1mCY2010…\u001b[0m\u001b[1m \u001b[0m \u001b[1m \u001b[0m\u001b[1mNone  \u001b[0m\u001b[1m \u001b[0m  │\n",
       "│   5       dei      \u001b[38;5;39m \u001b[0m\u001b[38;5;39mEntity…\u001b[0m\u001b[38;5;39m \u001b[0m  913562…   000119…   2010-0…   2010.0   Q3   \u001b[38;5;71m \u001b[0m\u001b[38;5;71m10-Q  \u001b[0m\u001b[38;5;71m \u001b[0m \u001b[38;5;39m \u001b[0m\u001b[38;5;39m2010-…\u001b[0m\u001b[38;5;39m \u001b[0m  CY2010…   None     │\n",
       "│  \u001b[1m \u001b[0m\u001b[1m6    \u001b[0m\u001b[1m \u001b[0m \u001b[1m \u001b[0m\u001b[1mdei    \u001b[0m\u001b[1m \u001b[0m \u001b[1;38;5;39m \u001b[0m\u001b[1;38;5;39mEntity…\u001b[0m\u001b[1;38;5;39m \u001b[0m \u001b[1m \u001b[0m\u001b[1m917307…\u001b[0m\u001b[1m \u001b[0m \u001b[1m \u001b[0m\u001b[1m000119…\u001b[0m\u001b[1m \u001b[0m \u001b[1m \u001b[0m\u001b[1m2010-1…\u001b[0m\u001b[1m \u001b[0m \u001b[1m \u001b[0m\u001b[1m2010.0\u001b[0m\u001b[1m \u001b[0m \u001b[1m \u001b[0m\u001b[1mFY \u001b[0m\u001b[1m \u001b[0m \u001b[1;38;5;71m \u001b[0m\u001b[1;38;5;71m10-K  \u001b[0m\u001b[1;38;5;71m \u001b[0m \u001b[1;38;5;39m \u001b[0m\u001b[1;38;5;39m2010-…\u001b[0m\u001b[1;38;5;39m \u001b[0m \u001b[1m \u001b[0m\u001b[1mCY2010…\u001b[0m\u001b[1m \u001b[0m \u001b[1m \u001b[0m\u001b[1mNone  \u001b[0m\u001b[1m \u001b[0m  │\n",
       "│   7       dei      \u001b[38;5;39m \u001b[0m\u001b[38;5;39mEntity…\u001b[0m\u001b[38;5;39m \u001b[0m  921278…   000119…   2011-0…   2011.0   Q1   \u001b[38;5;71m \u001b[0m\u001b[38;5;71m10-Q  \u001b[0m\u001b[38;5;71m \u001b[0m \u001b[38;5;39m \u001b[0m\u001b[38;5;39m2011-…\u001b[0m\u001b[38;5;39m \u001b[0m  CY2010…   None     │\n",
       "│  \u001b[1m \u001b[0m\u001b[1m8    \u001b[0m\u001b[1m \u001b[0m \u001b[1m \u001b[0m\u001b[1mdei    \u001b[0m\u001b[1m \u001b[0m \u001b[1;38;5;39m \u001b[0m\u001b[1;38;5;39mEntity…\u001b[0m\u001b[1;38;5;39m \u001b[0m \u001b[1m \u001b[0m\u001b[1m924754…\u001b[0m\u001b[1m \u001b[0m \u001b[1m \u001b[0m\u001b[1m000119…\u001b[0m\u001b[1m \u001b[0m \u001b[1m \u001b[0m\u001b[1m2011-0…\u001b[0m\u001b[1m \u001b[0m \u001b[1m \u001b[0m\u001b[1m2011.0\u001b[0m\u001b[1m \u001b[0m \u001b[1m \u001b[0m\u001b[1mQ2 \u001b[0m\u001b[1m \u001b[0m \u001b[1;38;5;71m \u001b[0m\u001b[1;38;5;71m10-Q  \u001b[0m\u001b[1;38;5;71m \u001b[0m \u001b[1;38;5;39m \u001b[0m\u001b[1;38;5;39m2011-…\u001b[0m\u001b[1;38;5;39m \u001b[0m \u001b[1m \u001b[0m\u001b[1mCY2011…\u001b[0m\u001b[1m \u001b[0m \u001b[1m \u001b[0m\u001b[1mNone  \u001b[0m\u001b[1m \u001b[0m  │\n",
       "│   9       dei      \u001b[38;5;39m \u001b[0m\u001b[38;5;39mEntity…\u001b[0m\u001b[38;5;39m \u001b[0m  927090…   000119…   2011-0…   2011.0   Q3   \u001b[38;5;71m \u001b[0m\u001b[38;5;71m10-Q  \u001b[0m\u001b[38;5;71m \u001b[0m \u001b[38;5;39m \u001b[0m\u001b[38;5;39m2011-…\u001b[0m\u001b[38;5;39m \u001b[0m  CY2011…   None     │\n",
       "│  \u001b[1m \u001b[0m\u001b[1m...  \u001b[0m\u001b[1m \u001b[0m \u001b[1m \u001b[0m\u001b[1m...    \u001b[0m\u001b[1m \u001b[0m \u001b[1;38;5;39m \u001b[0m\u001b[1;38;5;39m...    \u001b[0m\u001b[1;38;5;39m \u001b[0m \u001b[1m \u001b[0m\u001b[1m...    \u001b[0m\u001b[1m \u001b[0m \u001b[1m \u001b[0m\u001b[1m...    \u001b[0m\u001b[1m \u001b[0m \u001b[1m \u001b[0m\u001b[1m...    \u001b[0m\u001b[1m \u001b[0m \u001b[1m \u001b[0m\u001b[1m...   \u001b[0m\u001b[1m \u001b[0m \u001b[1m \u001b[0m\u001b[1m...\u001b[0m\u001b[1m \u001b[0m \u001b[1;38;5;71m \u001b[0m\u001b[1;38;5;71m...   \u001b[0m\u001b[1;38;5;71m \u001b[0m \u001b[1;38;5;39m \u001b[0m\u001b[1;38;5;39m...   \u001b[0m\u001b[1;38;5;39m \u001b[0m \u001b[1m \u001b[0m\u001b[1m...    \u001b[0m\u001b[1m \u001b[0m \u001b[1m \u001b[0m\u001b[1m...   \u001b[0m\u001b[1m \u001b[0m  │\n",
       "│   23686   us-gaap  \u001b[38;5;39m \u001b[0m\u001b[38;5;39mOtherA…\u001b[0m\u001b[38;5;39m \u001b[0m  390530…   000032…   2022-0…   2023.0   FY   \u001b[38;5;71m \u001b[0m\u001b[38;5;71m10-K  \u001b[0m\u001b[38;5;71m \u001b[0m \u001b[38;5;39m \u001b[0m\u001b[38;5;39m2023-…\u001b[0m\u001b[38;5;39m \u001b[0m  CY2022…   None     │\n",
       "│  \u001b[1m \u001b[0m\u001b[1m23687\u001b[0m\u001b[1m \u001b[0m \u001b[1m \u001b[0m\u001b[1mus-gaap\u001b[0m\u001b[1m \u001b[0m \u001b[1;38;5;39m \u001b[0m\u001b[1;38;5;39mOtherA…\u001b[0m\u001b[1;38;5;39m \u001b[0m \u001b[1m \u001b[0m\u001b[1m469060…\u001b[0m\u001b[1m \u001b[0m \u001b[1m \u001b[0m\u001b[1m000032…\u001b[0m\u001b[1m \u001b[0m \u001b[1m \u001b[0m\u001b[1m2023-0…\u001b[0m\u001b[1m \u001b[0m \u001b[1m \u001b[0m\u001b[1m2023.0\u001b[0m\u001b[1m \u001b[0m \u001b[1m \u001b[0m\u001b[1mFY \u001b[0m\u001b[1m \u001b[0m \u001b[1;38;5;71m \u001b[0m\u001b[1;38;5;71m10-K  \u001b[0m\u001b[1;38;5;71m \u001b[0m \u001b[1;38;5;39m \u001b[0m\u001b[1;38;5;39m2023-…\u001b[0m\u001b[1;38;5;39m \u001b[0m \u001b[1m \u001b[0m\u001b[1mNone   \u001b[0m\u001b[1m \u001b[0m \u001b[1m \u001b[0m\u001b[1mNone  \u001b[0m\u001b[1m \u001b[0m  │\n",
       "│   23688   us-gaap  \u001b[38;5;39m \u001b[0m\u001b[38;5;39mOtherA…\u001b[0m\u001b[38;5;39m \u001b[0m  469060…   000032…   2023-0…   2024.0   FY   \u001b[38;5;71m \u001b[0m\u001b[38;5;71m10-K  \u001b[0m\u001b[38;5;71m \u001b[0m \u001b[38;5;39m \u001b[0m\u001b[38;5;39m2024-…\u001b[0m\u001b[38;5;39m \u001b[0m  CY2023…   None     │\n",
       "│  \u001b[1m \u001b[0m\u001b[1m23689\u001b[0m\u001b[1m \u001b[0m \u001b[1m \u001b[0m\u001b[1mus-gaap\u001b[0m\u001b[1m \u001b[0m \u001b[1;38;5;39m \u001b[0m\u001b[1;38;5;39mOtherA…\u001b[0m\u001b[1;38;5;39m \u001b[0m \u001b[1m \u001b[0m\u001b[1m553350…\u001b[0m\u001b[1m \u001b[0m \u001b[1m \u001b[0m\u001b[1m000032…\u001b[0m\u001b[1m \u001b[0m \u001b[1m \u001b[0m\u001b[1m2024-0…\u001b[0m\u001b[1m \u001b[0m \u001b[1m \u001b[0m\u001b[1m2024.0\u001b[0m\u001b[1m \u001b[0m \u001b[1m \u001b[0m\u001b[1mFY \u001b[0m\u001b[1m \u001b[0m \u001b[1;38;5;71m \u001b[0m\u001b[1;38;5;71m10-K  \u001b[0m\u001b[1;38;5;71m \u001b[0m \u001b[1;38;5;39m \u001b[0m\u001b[1;38;5;39m2024-…\u001b[0m\u001b[1;38;5;39m \u001b[0m \u001b[1m \u001b[0m\u001b[1mCY2024…\u001b[0m\u001b[1m \u001b[0m \u001b[1m \u001b[0m\u001b[1mNone  \u001b[0m\u001b[1m \u001b[0m  │\n",
       "│   23690   us-gaap  \u001b[38;5;39m \u001b[0m\u001b[38;5;39mOtherC…\u001b[0m\u001b[38;5;39m \u001b[0m  243500…   000032…   2024-1…   2025.0   Q1   \u001b[38;5;71m \u001b[0m\u001b[38;5;71m10-Q  \u001b[0m\u001b[38;5;71m \u001b[0m \u001b[38;5;39m \u001b[0m\u001b[38;5;39m2025-…\u001b[0m\u001b[38;5;39m \u001b[0m  CY2024…   2024-…   │\n",
       "│  \u001b[1m \u001b[0m\u001b[1m23691\u001b[0m\u001b[1m \u001b[0m \u001b[1m \u001b[0m\u001b[1mus-gaap\u001b[0m\u001b[1m \u001b[0m \u001b[1;38;5;39m \u001b[0m\u001b[1;38;5;39mOtherC…\u001b[0m\u001b[1;38;5;39m \u001b[0m \u001b[1m \u001b[0m\u001b[1m148900…\u001b[0m\u001b[1m \u001b[0m \u001b[1m \u001b[0m\u001b[1m000032…\u001b[0m\u001b[1m \u001b[0m \u001b[1m \u001b[0m\u001b[1m2025-0…\u001b[0m\u001b[1m \u001b[0m \u001b[1m \u001b[0m\u001b[1m2025.0\u001b[0m\u001b[1m \u001b[0m \u001b[1m \u001b[0m\u001b[1mQ2 \u001b[0m\u001b[1m \u001b[0m \u001b[1;38;5;71m \u001b[0m\u001b[1;38;5;71m10-Q  \u001b[0m\u001b[1;38;5;71m \u001b[0m \u001b[1;38;5;39m \u001b[0m\u001b[1;38;5;39m2025-…\u001b[0m\u001b[1;38;5;39m \u001b[0m \u001b[1m \u001b[0m\u001b[1mNone   \u001b[0m\u001b[1m \u001b[0m \u001b[1m \u001b[0m\u001b[1m2024-…\u001b[0m\u001b[1m \u001b[0m  │\n",
       "│   23692   us-gaap  \u001b[38;5;39m \u001b[0m\u001b[38;5;39mOtherC…\u001b[0m\u001b[38;5;39m \u001b[0m  -94600…   000032…   2025-0…   2025.0   Q2   \u001b[38;5;71m \u001b[0m\u001b[38;5;71m10-Q  \u001b[0m\u001b[38;5;71m \u001b[0m \u001b[38;5;39m \u001b[0m\u001b[38;5;39m2025-…\u001b[0m\u001b[38;5;39m \u001b[0m  CY2025…   2024-…   │\n",
       "│  \u001b[1m \u001b[0m\u001b[1m23693\u001b[0m\u001b[1m \u001b[0m \u001b[1m \u001b[0m\u001b[1mus-gaap\u001b[0m\u001b[1m \u001b[0m \u001b[1;38;5;39m \u001b[0m\u001b[1;38;5;39mOtherC…\u001b[0m\u001b[1;38;5;39m \u001b[0m \u001b[1m \u001b[0m\u001b[1m165100…\u001b[0m\u001b[1m \u001b[0m \u001b[1m \u001b[0m\u001b[1m000032…\u001b[0m\u001b[1m \u001b[0m \u001b[1m \u001b[0m\u001b[1m2024-1…\u001b[0m\u001b[1m \u001b[0m \u001b[1m \u001b[0m\u001b[1m2025.0\u001b[0m\u001b[1m \u001b[0m \u001b[1m \u001b[0m\u001b[1mQ1 \u001b[0m\u001b[1m \u001b[0m \u001b[1;38;5;71m \u001b[0m\u001b[1;38;5;71m10-Q  \u001b[0m\u001b[1;38;5;71m \u001b[0m \u001b[1;38;5;39m \u001b[0m\u001b[1;38;5;39m2025-…\u001b[0m\u001b[1;38;5;39m \u001b[0m \u001b[1m \u001b[0m\u001b[1mCY2024…\u001b[0m\u001b[1m \u001b[0m \u001b[1m \u001b[0m\u001b[1m2024-…\u001b[0m\u001b[1m \u001b[0m  │\n",
       "│   23694   us-gaap  \u001b[38;5;39m \u001b[0m\u001b[38;5;39mOtherC…\u001b[0m\u001b[38;5;39m \u001b[0m  133300…   000032…   2025-0…   2025.0   Q2   \u001b[38;5;71m \u001b[0m\u001b[38;5;71m10-Q  \u001b[0m\u001b[38;5;71m \u001b[0m \u001b[38;5;39m \u001b[0m\u001b[38;5;39m2025-…\u001b[0m\u001b[38;5;39m \u001b[0m  None      2024-…   │\n",
       "│  \u001b[1m \u001b[0m\u001b[1m23695\u001b[0m\u001b[1m \u001b[0m \u001b[1m \u001b[0m\u001b[1mus-gaap\u001b[0m\u001b[1m \u001b[0m \u001b[1;38;5;39m \u001b[0m\u001b[1;38;5;39mOtherC…\u001b[0m\u001b[1;38;5;39m \u001b[0m \u001b[1m \u001b[0m\u001b[1m-31800…\u001b[0m\u001b[1m \u001b[0m \u001b[1m \u001b[0m\u001b[1m000032…\u001b[0m\u001b[1m \u001b[0m \u001b[1m \u001b[0m\u001b[1m2025-0…\u001b[0m\u001b[1m \u001b[0m \u001b[1m \u001b[0m\u001b[1m2025.0\u001b[0m\u001b[1m \u001b[0m \u001b[1m \u001b[0m\u001b[1mQ2 \u001b[0m\u001b[1m \u001b[0m \u001b[1;38;5;71m \u001b[0m\u001b[1;38;5;71m10-Q  \u001b[0m\u001b[1;38;5;71m \u001b[0m \u001b[1;38;5;39m \u001b[0m\u001b[1;38;5;39m2025-…\u001b[0m\u001b[1;38;5;39m \u001b[0m \u001b[1m \u001b[0m\u001b[1mCY2025…\u001b[0m\u001b[1m \u001b[0m \u001b[1m \u001b[0m\u001b[1m2024-…\u001b[0m\u001b[1m \u001b[0m  │\n",
       "│                                                                                                                 │\n",
       "╰─────────────────────────────────────────────────────────────────────────────────────────────────────────────────╯"
      ]
     },
     "execution_count": 16,
     "metadata": {},
     "output_type": "execute_result"
    }
   ],
   "source": [
    "apple.get_facts()"
   ]
  },
  {
   "cell_type": "code",
   "execution_count": 19,
   "id": "46b0691a-6452-477f-a493-87b8d6caaf24",
   "metadata": {},
   "outputs": [
    {
     "data": {
      "text/html": [
       "<pre style=\"white-space:pre;overflow-x:auto;line-height:normal;font-family:Menlo,'DejaVu Sans Mono',consolas,'Courier New',monospace\"></pre>\n"
      ],
      "text/plain": []
     },
     "metadata": {},
     "output_type": "display_data"
    },
    {
     "data": {
      "text/plain": [
       "<bound method Financials.income_statement of \u001b[32m╭─\u001b[0m\u001b[32m────────────────────────────────────────────────\u001b[0m\u001b[32m XBRL Document \u001b[0m\u001b[32m────────────────────────────────────────────────\u001b[0m\u001b[32m─╮\u001b[0m\n",
       "\u001b[32m│\u001b[0m \u001b[3m           Entity Information            \u001b[0m                                                                       \u001b[32m│\u001b[0m\n",
       "\u001b[32m│\u001b[0m                                                                                                                 \u001b[32m│\u001b[0m\n",
       "\u001b[32m│\u001b[0m  \u001b[1m \u001b[0m\u001b[1mProperty                \u001b[0m\u001b[1m \u001b[0m \u001b[1m \u001b[0m\u001b[1mValue     \u001b[0m\u001b[1m \u001b[0m                                                                        \u001b[32m│\u001b[0m\n",
       "\u001b[32m│\u001b[0m  ───────────────────────────────────────                                                                        \u001b[32m│\u001b[0m\n",
       "\u001b[32m│\u001b[0m   entity_name                Apple Inc.                                                                         \u001b[32m│\u001b[0m\n",
       "\u001b[32m│\u001b[0m   ticker                     AAPL                                                                               \u001b[32m│\u001b[0m\n",
       "\u001b[32m│\u001b[0m   identifier                 320193                                                                             \u001b[32m│\u001b[0m\n",
       "\u001b[32m│\u001b[0m   document_type              10-K                                                                               \u001b[32m│\u001b[0m\n",
       "\u001b[32m│\u001b[0m   reporting_end_date         2024-10-18                                                                         \u001b[32m│\u001b[0m\n",
       "\u001b[32m│\u001b[0m   document_period_end_date   2024-09-28                                                                         \u001b[32m│\u001b[0m\n",
       "\u001b[32m│\u001b[0m   fiscal_year                2024                                                                               \u001b[32m│\u001b[0m\n",
       "\u001b[32m│\u001b[0m   fiscal_period              FY                                                                                 \u001b[32m│\u001b[0m\n",
       "\u001b[32m│\u001b[0m   fiscal_year_end_month      9                                                                                  \u001b[32m│\u001b[0m\n",
       "\u001b[32m│\u001b[0m   fiscal_year_end_day        28                                                                                 \u001b[32m│\u001b[0m\n",
       "\u001b[32m│\u001b[0m   annual_report              True                                                                               \u001b[32m│\u001b[0m\n",
       "\u001b[32m│\u001b[0m   quarterly_report           False                                                                              \u001b[32m│\u001b[0m\n",
       "\u001b[32m│\u001b[0m   amendment                  False                                                                              \u001b[32m│\u001b[0m\n",
       "\u001b[32m│\u001b[0m                                                                                                                 \u001b[32m│\u001b[0m\n",
       "\u001b[32m│\u001b[0m \u001b[3m                                             Financial Statements                                              \u001b[0m \u001b[32m│\u001b[0m\n",
       "\u001b[32m│\u001b[0m                                                                                                                 \u001b[32m│\u001b[0m\n",
       "\u001b[32m│\u001b[0m  \u001b[1m \u001b[0m\u001b[1mType                     \u001b[0m\u001b[1m \u001b[0m \u001b[1m \u001b[0m\u001b[1mDefinition                                                          \u001b[0m\u001b[1m \u001b[0m \u001b[1m \u001b[0m\u001b[1mElements\u001b[0m\u001b[1m \u001b[0m  \u001b[32m│\u001b[0m\n",
       "\u001b[32m│\u001b[0m  ─────────────────────────────────────────────────────────────────────────────────────────────────────────────  \u001b[32m│\u001b[0m\n",
       "\u001b[32m│\u001b[0m   CoverPage                   CoverPage                                                              50         \u001b[32m│\u001b[0m\n",
       "\u001b[32m│\u001b[0m   Other                       AuditorInformation                                                     4          \u001b[32m│\u001b[0m\n",
       "\u001b[32m│\u001b[0m   IncomeStatement             CONSOLIDATEDSTATEMENTSOFOPERATIONS                                     25         \u001b[32m│\u001b[0m\n",
       "\u001b[32m│\u001b[0m   ComprehensiveIncome         CONSOLIDATEDSTATEMENTSOFCOMPREHENSIVEINCOME                            14         \u001b[32m│\u001b[0m\n",
       "\u001b[32m│\u001b[0m   BalanceSheet                CONSOLIDATEDBALANCESHEETS                                              38         \u001b[32m│\u001b[0m\n",
       "\u001b[32m│\u001b[0m   BalanceSheetParenthetical   CONSOLIDATEDBALANCESHEETSParenthetical                                 5          \u001b[32m│\u001b[0m\n",
       "\u001b[32m│\u001b[0m   StatementOfEquity           CONSOLIDATEDSTATEMENTSOFSHAREHOLDERSEQUITY                             18         \u001b[32m│\u001b[0m\n",
       "\u001b[32m│\u001b[0m   CashFlowStatement           CONSOLIDATEDSTATEMENTSOFCASHFLOWS                                      35         \u001b[32m│\u001b[0m\n",
       "\u001b[32m│\u001b[0m   AccountingPolicies          SummaryofSignificantAccountingPolicies                                 2          \u001b[32m│\u001b[0m\n",
       "\u001b[32m│\u001b[0m   Other                       Revenue                                                                2          \u001b[32m│\u001b[0m\n",
       "\u001b[32m│\u001b[0m   Other                       EarningsPerShare                                                       2          \u001b[32m│\u001b[0m\n",
       "\u001b[32m│\u001b[0m   Other                       FinancialInstruments                                                   2          \u001b[32m│\u001b[0m\n",
       "\u001b[32m│\u001b[0m   Other                       PropertyPlantandEquipment                                              2          \u001b[32m│\u001b[0m\n",
       "\u001b[32m│\u001b[0m   Other                       ConsolidatedFinancialStatementDetails                                  2          \u001b[32m│\u001b[0m\n",
       "\u001b[32m│\u001b[0m   Other                       IncomeTaxes                                                            2          \u001b[32m│\u001b[0m\n",
       "\u001b[32m│\u001b[0m   Other                       Leases                                                                 3          \u001b[32m│\u001b[0m\n",
       "\u001b[32m│\u001b[0m   Other                       Debt                                                                   2          \u001b[32m│\u001b[0m\n",
       "\u001b[32m│\u001b[0m   Other                       ShareholdersEquity                                                     2          \u001b[32m│\u001b[0m\n",
       "\u001b[32m│\u001b[0m   Other                       ShareBasedCompensation                                                 2          \u001b[32m│\u001b[0m\n",
       "\u001b[32m│\u001b[0m   Other                       CommitmentsContingenciesandSupplyConcentrations                        2          \u001b[32m│\u001b[0m\n",
       "\u001b[32m│\u001b[0m   SegmentDisclosure           SegmentInformationandGeographicData                                    2          \u001b[32m│\u001b[0m\n",
       "\u001b[32m│\u001b[0m   AccountingPolicies          SummaryofSignificantAccountingPoliciesPolicies                         14         \u001b[32m│\u001b[0m\n",
       "\u001b[32m│\u001b[0m   Other                       RevenueTables                                                          2          \u001b[32m│\u001b[0m\n",
       "\u001b[32m│\u001b[0m   Other                       EarningsPerShareTables                                                 2          \u001b[32m│\u001b[0m\n",
       "\u001b[32m│\u001b[0m   Other                       FinancialInstrumentsTables                                             4          \u001b[32m│\u001b[0m\n",
       "\u001b[32m│\u001b[0m   Other                       PropertyPlantandEquipmentTables                                        2          \u001b[32m│\u001b[0m\n",
       "\u001b[32m│\u001b[0m   Other                       ConsolidatedFinancialStatementDetailsTables                            4          \u001b[32m│\u001b[0m\n",
       "\u001b[32m│\u001b[0m   Other                       IncomeTaxesTables                                                      5          \u001b[32m│\u001b[0m\n",
       "\u001b[32m│\u001b[0m   Other                       LeasesTables                                                           4          \u001b[32m│\u001b[0m\n",
       "\u001b[32m│\u001b[0m   Other                       DebtTables                                                             4          \u001b[32m│\u001b[0m\n",
       "\u001b[32m│\u001b[0m   Other                       ShareholdersEquityTables                                               2          \u001b[32m│\u001b[0m\n",
       "\u001b[32m│\u001b[0m   Other                       ShareBasedCompensationTables                                           3          \u001b[32m│\u001b[0m\n",
       "\u001b[32m│\u001b[0m   Other                       CommitmentsContingenciesandSupplyConcentrationsTables                  2          \u001b[32m│\u001b[0m\n",
       "\u001b[32m│\u001b[0m   SegmentDisclosure           SegmentInformationandGeographicDataTables                              4          \u001b[32m│\u001b[0m\n",
       "\u001b[32m│\u001b[0m   Other                       RevenueAdditionalInformationDetails                                    3          \u001b[32m│\u001b[0m\n",
       "\u001b[32m│\u001b[0m   Other                       RevenueNetSalesDisaggregatedbySignificantProductsandServicesDetails    11         \u001b[32m│\u001b[0m\n",
       "\u001b[32m│\u001b[0m   Other                       RevenueDeferredRevenueExpectedTimingofRealizationDetails               6          \u001b[32m│\u001b[0m\n",
       "\u001b[32m│\u001b[0m   Other                       EarningsPerShareComputationofBasicandDilutedEarningsPerShareDetails    9          \u001b[32m│\u001b[0m\n",
       "\u001b[32m│\u001b[0m   Other                       EarningsPerShareAdditionalInformationDetails                           7          \u001b[32m│\u001b[0m\n",
       "\u001b[32m│\u001b[0m   Other                       FinancialInstrumentsCashCashEquivalentsandMarketableSecuritiesDetai…   42         \u001b[32m│\u001b[0m\n",
       "\u001b[32m│\u001b[0m   Other                       FinancialInstrumentsAdditionalInformationDetails                       30         \u001b[32m│\u001b[0m\n",
       "\u001b[32m│\u001b[0m   Other                       FinancialInstrumentsNotionalAmountsAssociatedwithDerivativeInstrume…   12         \u001b[32m│\u001b[0m\n",
       "\u001b[32m│\u001b[0m   Other                       FinancialInstrumentsDerivativeInstrumentsDesignatedasFairValueHedge…   5          \u001b[32m│\u001b[0m\n",
       "\u001b[32m│\u001b[0m   Other                       PropertyPlantandEquipmentGrossPropertyPlantandEquipmentbyMajorAsset…   11         \u001b[32m│\u001b[0m\n",
       "\u001b[32m│\u001b[0m   Other                       PropertyPlantandEquipmentAdditionalInformationDetails                  2          \u001b[32m│\u001b[0m\n",
       "\u001b[32m│\u001b[0m   Other                       ConsolidatedFinancialStatementDetailsOtherNonCurrentAssetsDetails      4          \u001b[32m│\u001b[0m\n",
       "\u001b[32m│\u001b[0m   Other                       ConsolidatedFinancialStatementDetailsOtherCurrentLiabilitiesDetails    4          \u001b[32m│\u001b[0m\n",
       "\u001b[32m│\u001b[0m   Other                       ConsolidatedFinancialStatementDetailsOtherNonCurrentLiabilitiesDeta…   4          \u001b[32m│\u001b[0m\n",
       "\u001b[32m│\u001b[0m   Other                       IncomeTaxesAdditionalInformationDetails                                28         \u001b[32m│\u001b[0m\n",
       "\u001b[32m│\u001b[0m   Other                       IncomeTaxesProvisionforIncomeTaxesDetails                              14         \u001b[32m│\u001b[0m\n",
       "\u001b[32m│\u001b[0m   Other                       IncomeTaxesReconciliationofProvisionforIncomeTaxestoAmountComputedb…   10         \u001b[32m│\u001b[0m\n",
       "\u001b[32m│\u001b[0m   Other                       IncomeTaxesSignificantComponentsofDeferredTaxAssetsandLiabilitiesDe…   20         \u001b[32m│\u001b[0m\n",
       "\u001b[32m│\u001b[0m   Other                       IncomeTaxesAggregateChangesinGrossUnrecognizedTaxBenefitsDetails       8          \u001b[32m│\u001b[0m\n",
       "\u001b[32m│\u001b[0m   Other                       LeasesAdditionalInformationDetails                                     19         \u001b[32m│\u001b[0m\n",
       "\u001b[32m│\u001b[0m   Other                       LeasesROUAssetsandLeaseLiabilitiesDetails                              16         \u001b[32m│\u001b[0m\n",
       "\u001b[32m│\u001b[0m   Other                       LeasesLeaseLiabilityMaturitiesDetails                                  31         \u001b[32m│\u001b[0m\n",
       "\u001b[32m│\u001b[0m   Other                       DebtAdditionalInformationDetails                                       13         \u001b[32m│\u001b[0m\n",
       "\u001b[32m│\u001b[0m   Other                       DebtSummaryofCashFlowsAssociatedwithCommercialPaperDetails             8          \u001b[32m│\u001b[0m\n",
       "\u001b[32m│\u001b[0m   Other                       DebtSummaryofTermDebtDetails                                           23         \u001b[32m│\u001b[0m\n",
       "\u001b[32m│\u001b[0m   Other                       DebtFuturePrincipalPaymentsforTermDebtDetails                          8          \u001b[32m│\u001b[0m\n",
       "\u001b[32m│\u001b[0m   Other                       ShareholdersEquityAdditionalInformationDetails                         4          \u001b[32m│\u001b[0m\n",
       "\u001b[32m│\u001b[0m   StatementOfEquity           ShareholdersEquitySharesofCommonStockDetails                           10         \u001b[32m│\u001b[0m\n",
       "\u001b[32m│\u001b[0m   Other                       ShareBasedCompensationAdditionalInformationDetails                     17         \u001b[32m│\u001b[0m\n",
       "\u001b[32m│\u001b[0m   Other                       ShareBasedCompensationRestrictedStockUnitActivityandRelatedInformat…   18         \u001b[32m│\u001b[0m\n",
       "\u001b[32m│\u001b[0m   Other                       ShareBasedCompensationSummaryofShareBasedCompensationExpenseandtheR…   3          \u001b[32m│\u001b[0m\n",
       "\u001b[32m│\u001b[0m   Other                       CommitmentsContingenciesandSupplyConcentrationsFuturePaymentsUnderU…   9          \u001b[32m│\u001b[0m\n",
       "\u001b[32m│\u001b[0m   SegmentDisclosure           SegmentInformationandGeographicDataInformationbyReportableSegmentDe…   12         \u001b[32m│\u001b[0m\n",
       "\u001b[32m│\u001b[0m   SegmentDisclosure           SegmentInformationandGeographicDataReconciliationofSegmentOperating…   11         \u001b[32m│\u001b[0m\n",
       "\u001b[32m│\u001b[0m   SegmentDisclosure           SegmentInformationandGeographicDataNetSalesforCountriesthatIndividu…   9          \u001b[32m│\u001b[0m\n",
       "\u001b[32m│\u001b[0m   SegmentDisclosure           SegmentInformationandGeographicDataLongLivedAssetsforCountriesthatI…   9          \u001b[32m│\u001b[0m\n",
       "\u001b[32m│\u001b[0m   Disclosures                 AwardTimingDisclosure                                                  21         \u001b[32m│\u001b[0m\n",
       "\u001b[32m│\u001b[0m   Disclosures                 ErrCompDisclosure                                                      20         \u001b[32m│\u001b[0m\n",
       "\u001b[32m│\u001b[0m   Disclosures                 PvpDisclosure                                                          54         \u001b[32m│\u001b[0m\n",
       "\u001b[32m│\u001b[0m   Other                       InsiderTradingArrangements                                             20         \u001b[32m│\u001b[0m\n",
       "\u001b[32m│\u001b[0m   Other                       InsiderTradingPoliciesProc                                             3          \u001b[32m│\u001b[0m\n",
       "\u001b[32m│\u001b[0m                                                                                                                 \u001b[32m│\u001b[0m\n",
       "\u001b[32m│\u001b[0m \u001b[3m     Facts Summary     \u001b[0m                                                                                         \u001b[32m│\u001b[0m\n",
       "\u001b[32m│\u001b[0m                                                                                                                 \u001b[32m│\u001b[0m\n",
       "\u001b[32m│\u001b[0m  \u001b[1m \u001b[0m\u001b[1mCategory   \u001b[0m\u001b[1m \u001b[0m \u001b[1m \u001b[0m\u001b[1mCount\u001b[0m\u001b[1m \u001b[0m                                                                                          \u001b[32m│\u001b[0m\n",
       "\u001b[32m│\u001b[0m  ─────────────────────                                                                                          \u001b[32m│\u001b[0m\n",
       "\u001b[32m│\u001b[0m   Total Facts   1042                                                                                            \u001b[32m│\u001b[0m\n",
       "\u001b[32m│\u001b[0m   Contexts      193                                                                                             \u001b[32m│\u001b[0m\n",
       "\u001b[32m│\u001b[0m   Units         7                                                                                               \u001b[32m│\u001b[0m\n",
       "\u001b[32m│\u001b[0m   Elements      684                                                                                             \u001b[32m│\u001b[0m\n",
       "\u001b[32m│\u001b[0m                                                                                                                 \u001b[32m│\u001b[0m\n",
       "\u001b[32m│\u001b[0m \u001b[3m           Reporting Periods           \u001b[0m                                                                         \u001b[32m│\u001b[0m\n",
       "\u001b[32m│\u001b[0m                                                                                                                 \u001b[32m│\u001b[0m\n",
       "\u001b[32m│\u001b[0m  \u001b[1m \u001b[0m\u001b[1mType    \u001b[0m\u001b[1m \u001b[0m \u001b[1m \u001b[0m\u001b[1mPeriod                  \u001b[0m\u001b[1m \u001b[0m                                                                          \u001b[32m│\u001b[0m\n",
       "\u001b[32m│\u001b[0m  ─────────────────────────────────────                                                                          \u001b[32m│\u001b[0m\n",
       "\u001b[32m│\u001b[0m   Instant    2024-10-18                                                                                         \u001b[32m│\u001b[0m\n",
       "\u001b[32m│\u001b[0m   Instant    2024-09-28                                                                                         \u001b[32m│\u001b[0m\n",
       "\u001b[32m│\u001b[0m   Duration   2023-10-01 to 2024-09-28                                                                           \u001b[32m│\u001b[0m\n",
       "\u001b[32m│\u001b[0m   Duration   2024-06-30 to 2024-09-28                                                                           \u001b[32m│\u001b[0m\n",
       "\u001b[32m│\u001b[0m   Instant    2024-03-29                                                                                         \u001b[32m│\u001b[0m\n",
       "\u001b[32m│\u001b[0m   Instant    2023-09-30                                                                                         \u001b[32m│\u001b[0m\n",
       "\u001b[32m│\u001b[0m   Duration   2022-09-25 to 2023-09-30                                                                           \u001b[32m│\u001b[0m\n",
       "\u001b[32m│\u001b[0m   Instant    2022-09-24                                                                                         \u001b[32m│\u001b[0m\n",
       "\u001b[32m│\u001b[0m   Duration   2021-09-26 to 2022-09-24                                                                           \u001b[32m│\u001b[0m\n",
       "\u001b[32m│\u001b[0m   Instant    2022-03-04                                                                                         \u001b[32m│\u001b[0m\n",
       "\u001b[32m│\u001b[0m   Instant    2021-09-25                                                                                         \u001b[32m│\u001b[0m\n",
       "\u001b[32m│\u001b[0m   Instant    2016-08-30                                                                                         \u001b[32m│\u001b[0m\n",
       "\u001b[32m│\u001b[0m   Duration   2016-08-30 to 2016-08-30                                                                           \u001b[32m│\u001b[0m\n",
       "\u001b[32m│\u001b[0m                                                                                                                 \u001b[32m│\u001b[0m\n",
       "\u001b[32m╰─────────────────────────────────────────────────────────────────────────────────────────────────────────────────╯\u001b[0m\n",
       ">"
      ]
     },
     "execution_count": 19,
     "metadata": {},
     "output_type": "execute_result"
    }
   ],
   "source": [
    "financials = apple.get_financials()\n",
    "financials.income_statement"
   ]
  },
  {
   "cell_type": "code",
   "execution_count": null,
   "id": "cca52cff-4e99-46a9-b88d-9377731d1f3f",
   "metadata": {},
   "outputs": [],
   "source": []
  }
 ],
 "metadata": {
  "kernelspec": {
   "display_name": "Python 3 (ipykernel)",
   "language": "python",
   "name": "python3"
  },
  "language_info": {
   "codemirror_mode": {
    "name": "ipython",
    "version": 3
   },
   "file_extension": ".py",
   "mimetype": "text/x-python",
   "name": "python",
   "nbconvert_exporter": "python",
   "pygments_lexer": "ipython3",
   "version": "3.13.3"
  }
 },
 "nbformat": 4,
 "nbformat_minor": 5
}
